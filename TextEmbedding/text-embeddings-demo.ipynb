{
 "cells": [
  {
   "cell_type": "code",
   "execution_count": 17,
   "metadata": {},
   "outputs": [
    {
     "name": "stderr",
     "output_type": "stream",
     "text": [
      "huggingface/tokenizers: The current process just got forked, after parallelism has already been used. Disabling parallelism to avoid deadlocks...\n",
      "To disable this warning, you can either:\n",
      "\t- Avoid using `tokenizers` before the fork if possible\n",
      "\t- Explicitly set the environment variable TOKENIZERS_PARALLELISM=(true | false)\n"
     ]
    },
    {
     "name": "stdout",
     "output_type": "stream",
     "text": [
      "Requirement already satisfied: kagglehub in /Users/ekirimlioglu/dse200/DSE200-Day5/.venv/lib/python3.10/site-packages (0.3.4)\n",
      "Requirement already satisfied: matplotlib in /Users/ekirimlioglu/dse200/DSE200-Day5/.venv/lib/python3.10/site-packages (3.9.2)\n",
      "Requirement already satisfied: nltk in /Users/ekirimlioglu/dse200/DSE200-Day5/.venv/lib/python3.10/site-packages (3.9.1)\n",
      "Requirement already satisfied: numpy in /Users/ekirimlioglu/dse200/DSE200-Day5/.venv/lib/python3.10/site-packages (1.26.4)\n",
      "Requirement already satisfied: pandas in /Users/ekirimlioglu/dse200/DSE200-Day5/.venv/lib/python3.10/site-packages (2.2.3)\n",
      "Requirement already satisfied: seaborn in /Users/ekirimlioglu/dse200/DSE200-Day5/.venv/lib/python3.10/site-packages (0.13.2)\n",
      "Requirement already satisfied: torch in /Users/ekirimlioglu/dse200/DSE200-Day5/.venv/lib/python3.10/site-packages (2.5.1)\n",
      "Requirement already satisfied: scikit-learn in /Users/ekirimlioglu/dse200/DSE200-Day5/.venv/lib/python3.10/site-packages (1.5.2)\n",
      "Requirement already satisfied: ipywidgets in /Users/ekirimlioglu/dse200/DSE200-Day5/.venv/lib/python3.10/site-packages (8.1.5)\n",
      "Requirement already satisfied: sentence-transformers in /Users/ekirimlioglu/dse200/DSE200-Day5/.venv/lib/python3.10/site-packages (3.3.1)\n",
      "Requirement already satisfied: streamlit in /Users/ekirimlioglu/dse200/DSE200-Day5/.venv/lib/python3.10/site-packages (1.40.1)\n",
      "Requirement already satisfied: nbformat in /Users/ekirimlioglu/dse200/DSE200-Day5/.venv/lib/python3.10/site-packages (5.10.4)\n",
      "Collecting spacy\n",
      "  Using cached spacy-3.8.2-cp310-cp310-macosx_11_0_arm64.whl.metadata (27 kB)\n",
      "Requirement already satisfied: textblob in /Users/ekirimlioglu/dse200/DSE200-Day5/.venv/lib/python3.10/site-packages (0.18.0.post0)\n",
      "Requirement already satisfied: packaging in /Users/ekirimlioglu/dse200/DSE200-Day5/.venv/lib/python3.10/site-packages (from kagglehub) (24.2)\n",
      "Requirement already satisfied: requests in /Users/ekirimlioglu/dse200/DSE200-Day5/.venv/lib/python3.10/site-packages (from kagglehub) (2.32.3)\n",
      "Requirement already satisfied: tqdm in /Users/ekirimlioglu/dse200/DSE200-Day5/.venv/lib/python3.10/site-packages (from kagglehub) (4.67.0)\n",
      "Requirement already satisfied: contourpy>=1.0.1 in /Users/ekirimlioglu/dse200/DSE200-Day5/.venv/lib/python3.10/site-packages (from matplotlib) (1.3.1)\n",
      "Requirement already satisfied: cycler>=0.10 in /Users/ekirimlioglu/dse200/DSE200-Day5/.venv/lib/python3.10/site-packages (from matplotlib) (0.12.1)\n",
      "Requirement already satisfied: fonttools>=4.22.0 in /Users/ekirimlioglu/dse200/DSE200-Day5/.venv/lib/python3.10/site-packages (from matplotlib) (4.55.0)\n",
      "Requirement already satisfied: kiwisolver>=1.3.1 in /Users/ekirimlioglu/dse200/DSE200-Day5/.venv/lib/python3.10/site-packages (from matplotlib) (1.4.7)\n",
      "Requirement already satisfied: pillow>=8 in /Users/ekirimlioglu/dse200/DSE200-Day5/.venv/lib/python3.10/site-packages (from matplotlib) (11.0.0)\n",
      "Requirement already satisfied: pyparsing>=2.3.1 in /Users/ekirimlioglu/dse200/DSE200-Day5/.venv/lib/python3.10/site-packages (from matplotlib) (3.2.0)\n",
      "Requirement already satisfied: python-dateutil>=2.7 in /Users/ekirimlioglu/dse200/DSE200-Day5/.venv/lib/python3.10/site-packages (from matplotlib) (2.9.0.post0)\n",
      "Requirement already satisfied: click in /Users/ekirimlioglu/dse200/DSE200-Day5/.venv/lib/python3.10/site-packages (from nltk) (8.1.7)\n",
      "Requirement already satisfied: joblib in /Users/ekirimlioglu/dse200/DSE200-Day5/.venv/lib/python3.10/site-packages (from nltk) (1.4.2)\n",
      "Requirement already satisfied: regex>=2021.8.3 in /Users/ekirimlioglu/dse200/DSE200-Day5/.venv/lib/python3.10/site-packages (from nltk) (2024.11.6)\n",
      "Requirement already satisfied: pytz>=2020.1 in /Users/ekirimlioglu/dse200/DSE200-Day5/.venv/lib/python3.10/site-packages (from pandas) (2024.2)\n",
      "Requirement already satisfied: tzdata>=2022.7 in /Users/ekirimlioglu/dse200/DSE200-Day5/.venv/lib/python3.10/site-packages (from pandas) (2024.2)\n",
      "Requirement already satisfied: filelock in /Users/ekirimlioglu/dse200/DSE200-Day5/.venv/lib/python3.10/site-packages (from torch) (3.16.1)\n",
      "Requirement already satisfied: typing-extensions>=4.8.0 in /Users/ekirimlioglu/dse200/DSE200-Day5/.venv/lib/python3.10/site-packages (from torch) (4.12.2)\n",
      "Requirement already satisfied: networkx in /Users/ekirimlioglu/dse200/DSE200-Day5/.venv/lib/python3.10/site-packages (from torch) (3.4.2)\n",
      "Requirement already satisfied: jinja2 in /Users/ekirimlioglu/dse200/DSE200-Day5/.venv/lib/python3.10/site-packages (from torch) (3.1.4)\n",
      "Requirement already satisfied: fsspec in /Users/ekirimlioglu/dse200/DSE200-Day5/.venv/lib/python3.10/site-packages (from torch) (2024.10.0)\n",
      "Requirement already satisfied: sympy==1.13.1 in /Users/ekirimlioglu/dse200/DSE200-Day5/.venv/lib/python3.10/site-packages (from torch) (1.13.1)\n",
      "Requirement already satisfied: mpmath<1.4,>=1.1.0 in /Users/ekirimlioglu/dse200/DSE200-Day5/.venv/lib/python3.10/site-packages (from sympy==1.13.1->torch) (1.3.0)\n",
      "Requirement already satisfied: scipy>=1.6.0 in /Users/ekirimlioglu/dse200/DSE200-Day5/.venv/lib/python3.10/site-packages (from scikit-learn) (1.13.1)\n",
      "Requirement already satisfied: threadpoolctl>=3.1.0 in /Users/ekirimlioglu/dse200/DSE200-Day5/.venv/lib/python3.10/site-packages (from scikit-learn) (3.5.0)\n",
      "Requirement already satisfied: comm>=0.1.3 in /Users/ekirimlioglu/dse200/DSE200-Day5/.venv/lib/python3.10/site-packages (from ipywidgets) (0.2.2)\n",
      "Requirement already satisfied: ipython>=6.1.0 in /Users/ekirimlioglu/dse200/DSE200-Day5/.venv/lib/python3.10/site-packages (from ipywidgets) (8.29.0)\n",
      "Requirement already satisfied: traitlets>=4.3.1 in /Users/ekirimlioglu/dse200/DSE200-Day5/.venv/lib/python3.10/site-packages (from ipywidgets) (5.14.3)\n",
      "Requirement already satisfied: widgetsnbextension~=4.0.12 in /Users/ekirimlioglu/dse200/DSE200-Day5/.venv/lib/python3.10/site-packages (from ipywidgets) (4.0.13)\n",
      "Requirement already satisfied: jupyterlab-widgets~=3.0.12 in /Users/ekirimlioglu/dse200/DSE200-Day5/.venv/lib/python3.10/site-packages (from ipywidgets) (3.0.13)\n",
      "Requirement already satisfied: transformers<5.0.0,>=4.41.0 in /Users/ekirimlioglu/dse200/DSE200-Day5/.venv/lib/python3.10/site-packages (from sentence-transformers) (4.46.3)\n",
      "Requirement already satisfied: huggingface-hub>=0.20.0 in /Users/ekirimlioglu/dse200/DSE200-Day5/.venv/lib/python3.10/site-packages (from sentence-transformers) (0.26.2)\n",
      "Requirement already satisfied: altair<6,>=4.0 in /Users/ekirimlioglu/dse200/DSE200-Day5/.venv/lib/python3.10/site-packages (from streamlit) (5.4.1)\n",
      "Requirement already satisfied: blinker<2,>=1.0.0 in /Users/ekirimlioglu/dse200/DSE200-Day5/.venv/lib/python3.10/site-packages (from streamlit) (1.9.0)\n",
      "Requirement already satisfied: cachetools<6,>=4.0 in /Users/ekirimlioglu/dse200/DSE200-Day5/.venv/lib/python3.10/site-packages (from streamlit) (5.5.0)\n",
      "Requirement already satisfied: protobuf<6,>=3.20 in /Users/ekirimlioglu/dse200/DSE200-Day5/.venv/lib/python3.10/site-packages (from streamlit) (5.28.3)\n",
      "Requirement already satisfied: pyarrow>=7.0 in /Users/ekirimlioglu/dse200/DSE200-Day5/.venv/lib/python3.10/site-packages (from streamlit) (18.0.0)\n",
      "Requirement already satisfied: rich<14,>=10.14.0 in /Users/ekirimlioglu/dse200/DSE200-Day5/.venv/lib/python3.10/site-packages (from streamlit) (13.9.4)\n",
      "Requirement already satisfied: tenacity<10,>=8.1.0 in /Users/ekirimlioglu/dse200/DSE200-Day5/.venv/lib/python3.10/site-packages (from streamlit) (9.0.0)\n",
      "Requirement already satisfied: toml<2,>=0.10.1 in /Users/ekirimlioglu/dse200/DSE200-Day5/.venv/lib/python3.10/site-packages (from streamlit) (0.10.2)\n",
      "Requirement already satisfied: gitpython!=3.1.19,<4,>=3.0.7 in /Users/ekirimlioglu/dse200/DSE200-Day5/.venv/lib/python3.10/site-packages (from streamlit) (3.1.43)\n",
      "Requirement already satisfied: pydeck<1,>=0.8.0b4 in /Users/ekirimlioglu/dse200/DSE200-Day5/.venv/lib/python3.10/site-packages (from streamlit) (0.9.1)\n",
      "Requirement already satisfied: tornado<7,>=6.0.3 in /Users/ekirimlioglu/dse200/DSE200-Day5/.venv/lib/python3.10/site-packages (from streamlit) (6.4.2)\n",
      "Requirement already satisfied: fastjsonschema>=2.15 in /Users/ekirimlioglu/dse200/DSE200-Day5/.venv/lib/python3.10/site-packages (from nbformat) (2.20.0)\n",
      "Requirement already satisfied: jsonschema>=2.6 in /Users/ekirimlioglu/dse200/DSE200-Day5/.venv/lib/python3.10/site-packages (from nbformat) (4.23.0)\n",
      "Requirement already satisfied: jupyter-core!=5.0.*,>=4.12 in /Users/ekirimlioglu/dse200/DSE200-Day5/.venv/lib/python3.10/site-packages (from nbformat) (5.7.2)\n",
      "Collecting spacy-legacy<3.1.0,>=3.0.11 (from spacy)\n",
      "  Using cached spacy_legacy-3.0.12-py2.py3-none-any.whl.metadata (2.8 kB)\n",
      "Collecting spacy-loggers<2.0.0,>=1.0.0 (from spacy)\n",
      "  Using cached spacy_loggers-1.0.5-py3-none-any.whl.metadata (23 kB)\n",
      "Collecting murmurhash<1.1.0,>=0.28.0 (from spacy)\n",
      "  Using cached murmurhash-1.0.10-cp310-cp310-macosx_11_0_arm64.whl.metadata (2.0 kB)\n",
      "Collecting cymem<2.1.0,>=2.0.2 (from spacy)\n",
      "  Using cached cymem-2.0.8-cp310-cp310-macosx_11_0_arm64.whl.metadata (8.4 kB)\n",
      "Collecting preshed<3.1.0,>=3.0.2 (from spacy)\n",
      "  Using cached preshed-3.0.9-cp310-cp310-macosx_11_0_arm64.whl.metadata (2.2 kB)\n",
      "Collecting thinc<8.4.0,>=8.3.0 (from spacy)\n",
      "  Using cached thinc-8.3.2-cp310-cp310-macosx_11_0_arm64.whl.metadata (15 kB)\n",
      "Collecting wasabi<1.2.0,>=0.9.1 (from spacy)\n",
      "  Using cached wasabi-1.1.3-py3-none-any.whl.metadata (28 kB)\n",
      "Collecting srsly<3.0.0,>=2.4.3 (from spacy)\n",
      "  Using cached srsly-2.4.8-cp310-cp310-macosx_11_0_arm64.whl.metadata (20 kB)\n",
      "Collecting catalogue<2.1.0,>=2.0.6 (from spacy)\n",
      "  Using cached catalogue-2.0.10-py3-none-any.whl.metadata (14 kB)\n",
      "Collecting weasel<0.5.0,>=0.1.0 (from spacy)\n",
      "  Using cached weasel-0.4.1-py3-none-any.whl.metadata (4.6 kB)\n",
      "Collecting typer<1.0.0,>=0.3.0 (from spacy)\n",
      "  Downloading typer-0.13.1-py3-none-any.whl.metadata (15 kB)\n",
      "Collecting pydantic!=1.8,!=1.8.1,<3.0.0,>=1.7.4 (from spacy)\n",
      "  Downloading pydantic-2.10.1-py3-none-any.whl.metadata (169 kB)\n",
      "Requirement already satisfied: setuptools in /Users/ekirimlioglu/dse200/DSE200-Day5/.venv/lib/python3.10/site-packages (from spacy) (75.6.0)\n",
      "Collecting langcodes<4.0.0,>=3.2.0 (from spacy)\n",
      "  Downloading langcodes-3.5.0-py3-none-any.whl.metadata (29 kB)\n",
      "Requirement already satisfied: narwhals>=1.5.2 in /Users/ekirimlioglu/dse200/DSE200-Day5/.venv/lib/python3.10/site-packages (from altair<6,>=4.0->streamlit) (1.14.1)\n",
      "Requirement already satisfied: gitdb<5,>=4.0.1 in /Users/ekirimlioglu/dse200/DSE200-Day5/.venv/lib/python3.10/site-packages (from gitpython!=3.1.19,<4,>=3.0.7->streamlit) (4.0.11)\n",
      "Requirement already satisfied: pyyaml>=5.1 in /Users/ekirimlioglu/dse200/DSE200-Day5/.venv/lib/python3.10/site-packages (from huggingface-hub>=0.20.0->sentence-transformers) (6.0.2)\n",
      "Requirement already satisfied: decorator in /Users/ekirimlioglu/dse200/DSE200-Day5/.venv/lib/python3.10/site-packages (from ipython>=6.1.0->ipywidgets) (5.1.1)\n",
      "Requirement already satisfied: jedi>=0.16 in /Users/ekirimlioglu/dse200/DSE200-Day5/.venv/lib/python3.10/site-packages (from ipython>=6.1.0->ipywidgets) (0.19.2)\n",
      "Requirement already satisfied: matplotlib-inline in /Users/ekirimlioglu/dse200/DSE200-Day5/.venv/lib/python3.10/site-packages (from ipython>=6.1.0->ipywidgets) (0.1.7)\n",
      "Requirement already satisfied: prompt-toolkit<3.1.0,>=3.0.41 in /Users/ekirimlioglu/dse200/DSE200-Day5/.venv/lib/python3.10/site-packages (from ipython>=6.1.0->ipywidgets) (3.0.48)\n",
      "Requirement already satisfied: pygments>=2.4.0 in /Users/ekirimlioglu/dse200/DSE200-Day5/.venv/lib/python3.10/site-packages (from ipython>=6.1.0->ipywidgets) (2.18.0)\n",
      "Requirement already satisfied: stack-data in /Users/ekirimlioglu/dse200/DSE200-Day5/.venv/lib/python3.10/site-packages (from ipython>=6.1.0->ipywidgets) (0.6.3)\n",
      "Requirement already satisfied: exceptiongroup in /Users/ekirimlioglu/dse200/DSE200-Day5/.venv/lib/python3.10/site-packages (from ipython>=6.1.0->ipywidgets) (1.2.2)\n",
      "Requirement already satisfied: pexpect>4.3 in /Users/ekirimlioglu/dse200/DSE200-Day5/.venv/lib/python3.10/site-packages (from ipython>=6.1.0->ipywidgets) (4.9.0)\n",
      "Requirement already satisfied: attrs>=22.2.0 in /Users/ekirimlioglu/dse200/DSE200-Day5/.venv/lib/python3.10/site-packages (from jsonschema>=2.6->nbformat) (24.2.0)\n",
      "Requirement already satisfied: jsonschema-specifications>=2023.03.6 in /Users/ekirimlioglu/dse200/DSE200-Day5/.venv/lib/python3.10/site-packages (from jsonschema>=2.6->nbformat) (2024.10.1)\n",
      "Requirement already satisfied: referencing>=0.28.4 in /Users/ekirimlioglu/dse200/DSE200-Day5/.venv/lib/python3.10/site-packages (from jsonschema>=2.6->nbformat) (0.35.1)\n",
      "Requirement already satisfied: rpds-py>=0.7.1 in /Users/ekirimlioglu/dse200/DSE200-Day5/.venv/lib/python3.10/site-packages (from jsonschema>=2.6->nbformat) (0.21.0)\n",
      "Requirement already satisfied: platformdirs>=2.5 in /Users/ekirimlioglu/dse200/DSE200-Day5/.venv/lib/python3.10/site-packages (from jupyter-core!=5.0.*,>=4.12->nbformat) (4.3.6)\n",
      "Collecting language-data>=1.2 (from langcodes<4.0.0,>=3.2.0->spacy)\n",
      "  Downloading language_data-1.3.0-py3-none-any.whl.metadata (4.3 kB)\n",
      "Collecting annotated-types>=0.6.0 (from pydantic!=1.8,!=1.8.1,<3.0.0,>=1.7.4->spacy)\n",
      "  Using cached annotated_types-0.7.0-py3-none-any.whl.metadata (15 kB)\n",
      "Collecting pydantic-core==2.27.1 (from pydantic!=1.8,!=1.8.1,<3.0.0,>=1.7.4->spacy)\n",
      "  Downloading pydantic_core-2.27.1-cp310-cp310-macosx_11_0_arm64.whl.metadata (6.6 kB)\n",
      "Requirement already satisfied: MarkupSafe>=2.0 in /Users/ekirimlioglu/dse200/DSE200-Day5/.venv/lib/python3.10/site-packages (from jinja2->torch) (3.0.2)\n",
      "Requirement already satisfied: six>=1.5 in /Users/ekirimlioglu/dse200/DSE200-Day5/.venv/lib/python3.10/site-packages (from python-dateutil>=2.7->matplotlib) (1.16.0)\n",
      "Requirement already satisfied: charset-normalizer<4,>=2 in /Users/ekirimlioglu/dse200/DSE200-Day5/.venv/lib/python3.10/site-packages (from requests->kagglehub) (3.4.0)\n",
      "Requirement already satisfied: idna<4,>=2.5 in /Users/ekirimlioglu/dse200/DSE200-Day5/.venv/lib/python3.10/site-packages (from requests->kagglehub) (3.10)\n",
      "Requirement already satisfied: urllib3<3,>=1.21.1 in /Users/ekirimlioglu/dse200/DSE200-Day5/.venv/lib/python3.10/site-packages (from requests->kagglehub) (2.2.3)\n",
      "Requirement already satisfied: certifi>=2017.4.17 in /Users/ekirimlioglu/dse200/DSE200-Day5/.venv/lib/python3.10/site-packages (from requests->kagglehub) (2024.8.30)\n",
      "Requirement already satisfied: markdown-it-py>=2.2.0 in /Users/ekirimlioglu/dse200/DSE200-Day5/.venv/lib/python3.10/site-packages (from rich<14,>=10.14.0->streamlit) (3.0.0)\n",
      "Collecting blis<1.1.0,>=1.0.0 (from thinc<8.4.0,>=8.3.0->spacy)\n",
      "  Using cached blis-1.0.1-cp310-cp310-macosx_11_0_arm64.whl.metadata (7.6 kB)\n",
      "Collecting confection<1.0.0,>=0.0.1 (from thinc<8.4.0,>=8.3.0->spacy)\n",
      "  Using cached confection-0.1.5-py3-none-any.whl.metadata (19 kB)\n",
      "Collecting numpy\n",
      "  Using cached numpy-2.0.2-cp310-cp310-macosx_14_0_arm64.whl.metadata (60 kB)\n",
      "Requirement already satisfied: tokenizers<0.21,>=0.20 in /Users/ekirimlioglu/dse200/DSE200-Day5/.venv/lib/python3.10/site-packages (from transformers<5.0.0,>=4.41.0->sentence-transformers) (0.20.3)\n",
      "Requirement already satisfied: safetensors>=0.4.1 in /Users/ekirimlioglu/dse200/DSE200-Day5/.venv/lib/python3.10/site-packages (from transformers<5.0.0,>=4.41.0->sentence-transformers) (0.4.5)\n",
      "Collecting shellingham>=1.3.0 (from typer<1.0.0,>=0.3.0->spacy)\n",
      "  Using cached shellingham-1.5.4-py2.py3-none-any.whl.metadata (3.5 kB)\n",
      "Collecting cloudpathlib<1.0.0,>=0.7.0 (from weasel<0.5.0,>=0.1.0->spacy)\n",
      "  Using cached cloudpathlib-0.20.0-py3-none-any.whl.metadata (14 kB)\n",
      "Requirement already satisfied: smart-open<8.0.0,>=5.2.1 in /Users/ekirimlioglu/dse200/DSE200-Day5/.venv/lib/python3.10/site-packages (from weasel<0.5.0,>=0.1.0->spacy) (7.0.5)\n",
      "Requirement already satisfied: smmap<6,>=3.0.1 in /Users/ekirimlioglu/dse200/DSE200-Day5/.venv/lib/python3.10/site-packages (from gitdb<5,>=4.0.1->gitpython!=3.1.19,<4,>=3.0.7->streamlit) (5.0.1)\n",
      "Requirement already satisfied: parso<0.9.0,>=0.8.4 in /Users/ekirimlioglu/dse200/DSE200-Day5/.venv/lib/python3.10/site-packages (from jedi>=0.16->ipython>=6.1.0->ipywidgets) (0.8.4)\n",
      "Collecting marisa-trie>=1.1.0 (from language-data>=1.2->langcodes<4.0.0,>=3.2.0->spacy)\n",
      "  Using cached marisa_trie-1.2.1-cp310-cp310-macosx_11_0_arm64.whl.metadata (9.0 kB)\n",
      "Requirement already satisfied: mdurl~=0.1 in /Users/ekirimlioglu/dse200/DSE200-Day5/.venv/lib/python3.10/site-packages (from markdown-it-py>=2.2.0->rich<14,>=10.14.0->streamlit) (0.1.2)\n",
      "Requirement already satisfied: ptyprocess>=0.5 in /Users/ekirimlioglu/dse200/DSE200-Day5/.venv/lib/python3.10/site-packages (from pexpect>4.3->ipython>=6.1.0->ipywidgets) (0.7.0)\n",
      "Requirement already satisfied: wcwidth in /Users/ekirimlioglu/dse200/DSE200-Day5/.venv/lib/python3.10/site-packages (from prompt-toolkit<3.1.0,>=3.0.41->ipython>=6.1.0->ipywidgets) (0.2.13)\n",
      "Requirement already satisfied: wrapt in /Users/ekirimlioglu/dse200/DSE200-Day5/.venv/lib/python3.10/site-packages (from smart-open<8.0.0,>=5.2.1->weasel<0.5.0,>=0.1.0->spacy) (1.17.0)\n",
      "Requirement already satisfied: executing>=1.2.0 in /Users/ekirimlioglu/dse200/DSE200-Day5/.venv/lib/python3.10/site-packages (from stack-data->ipython>=6.1.0->ipywidgets) (2.1.0)\n",
      "Requirement already satisfied: asttokens>=2.1.0 in /Users/ekirimlioglu/dse200/DSE200-Day5/.venv/lib/python3.10/site-packages (from stack-data->ipython>=6.1.0->ipywidgets) (2.4.1)\n",
      "Requirement already satisfied: pure-eval in /Users/ekirimlioglu/dse200/DSE200-Day5/.venv/lib/python3.10/site-packages (from stack-data->ipython>=6.1.0->ipywidgets) (0.2.3)\n",
      "Using cached spacy-3.8.2-cp310-cp310-macosx_11_0_arm64.whl (6.3 MB)\n",
      "Using cached catalogue-2.0.10-py3-none-any.whl (17 kB)\n",
      "Using cached cymem-2.0.8-cp310-cp310-macosx_11_0_arm64.whl (41 kB)\n",
      "Downloading langcodes-3.5.0-py3-none-any.whl (182 kB)\n",
      "Using cached murmurhash-1.0.10-cp310-cp310-macosx_11_0_arm64.whl (26 kB)\n",
      "Using cached preshed-3.0.9-cp310-cp310-macosx_11_0_arm64.whl (127 kB)\n",
      "Downloading pydantic-2.10.1-py3-none-any.whl (455 kB)\n",
      "Downloading pydantic_core-2.27.1-cp310-cp310-macosx_11_0_arm64.whl (1.8 MB)\n",
      "\u001b[2K   \u001b[90m━━━━━━━━━━━━━━━━━━━━━━━━━━━━━━━━━━━━━━━━\u001b[0m \u001b[32m1.8/1.8 MB\u001b[0m \u001b[31m14.1 MB/s\u001b[0m eta \u001b[36m0:00:00\u001b[0m\n",
      "\u001b[?25hUsing cached spacy_legacy-3.0.12-py2.py3-none-any.whl (29 kB)\n",
      "Using cached spacy_loggers-1.0.5-py3-none-any.whl (22 kB)\n",
      "Using cached srsly-2.4.8-cp310-cp310-macosx_11_0_arm64.whl (491 kB)\n",
      "Using cached thinc-8.3.2-cp310-cp310-macosx_11_0_arm64.whl (779 kB)\n",
      "Using cached numpy-2.0.2-cp310-cp310-macosx_14_0_arm64.whl (5.3 MB)\n",
      "Downloading typer-0.13.1-py3-none-any.whl (44 kB)\n",
      "Using cached wasabi-1.1.3-py3-none-any.whl (27 kB)\n",
      "Using cached weasel-0.4.1-py3-none-any.whl (50 kB)\n",
      "Using cached annotated_types-0.7.0-py3-none-any.whl (13 kB)\n",
      "Using cached blis-1.0.1-cp310-cp310-macosx_11_0_arm64.whl (1.1 MB)\n",
      "Using cached cloudpathlib-0.20.0-py3-none-any.whl (52 kB)\n",
      "Using cached confection-0.1.5-py3-none-any.whl (35 kB)\n",
      "Downloading language_data-1.3.0-py3-none-any.whl (5.4 MB)\n",
      "\u001b[2K   \u001b[90m━━━━━━━━━━━━━━━━━━━━━━━━━━━━━━━━━━━━━━━━\u001b[0m \u001b[32m5.4/5.4 MB\u001b[0m \u001b[31m19.6 MB/s\u001b[0m eta \u001b[36m0:00:00\u001b[0ma \u001b[36m0:00:01\u001b[0m\n",
      "\u001b[?25hUsing cached shellingham-1.5.4-py2.py3-none-any.whl (9.8 kB)\n",
      "Using cached marisa_trie-1.2.1-cp310-cp310-macosx_11_0_arm64.whl (174 kB)\n",
      "Installing collected packages: cymem, wasabi, spacy-loggers, spacy-legacy, shellingham, pydantic-core, numpy, murmurhash, marisa-trie, cloudpathlib, catalogue, annotated-types, srsly, pydantic, preshed, language-data, blis, typer, langcodes, confection, weasel, thinc, spacy\n",
      "  Attempting uninstall: numpy\n",
      "    Found existing installation: numpy 1.26.4\n",
      "    Uninstalling numpy-1.26.4:\n",
      "      Successfully uninstalled numpy-1.26.4\n",
      "\u001b[31mERROR: pip's dependency resolver does not currently take into account all the packages that are installed. This behaviour is the source of the following dependency conflicts.\n",
      "gensim 4.3.3 requires numpy<2.0,>=1.18.5, but you have numpy 2.0.2 which is incompatible.\u001b[0m\u001b[31m\n",
      "\u001b[0mSuccessfully installed annotated-types-0.7.0 blis-1.0.1 catalogue-2.0.10 cloudpathlib-0.20.0 confection-0.1.5 cymem-2.0.8 langcodes-3.5.0 language-data-1.3.0 marisa-trie-1.2.1 murmurhash-1.0.10 numpy-2.0.2 preshed-3.0.9 pydantic-2.10.1 pydantic-core-2.27.1 shellingham-1.5.4 spacy-3.8.2 spacy-legacy-3.0.12 spacy-loggers-1.0.5 srsly-2.4.8 thinc-8.3.2 typer-0.13.1 wasabi-1.1.3 weasel-0.4.1\n",
      "Note: you may need to restart the kernel to use updated packages.\n"
     ]
    }
   ],
   "source": [
    "%pip install kagglehub matplotlib nltk numpy pandas seaborn torch scikit-learn ipywidgets sentence-transformers streamlit nbformat spacy textblob\n",
    "\n",
    "try:\n",
    "    from google.colab import output\n",
    "    output.enable_custom_widget_manager()\n",
    "except:\n",
    "    pass # Not running in Colab"
   ]
  },
  {
   "cell_type": "code",
   "execution_count": 2,
   "metadata": {},
   "outputs": [],
   "source": [
    "import numpy as np\n",
    "import pandas as pd\n",
    "import matplotlib.pyplot as plt\n",
    "from sklearn.manifold import TSNE\n",
    "from ipywidgets import interact\n",
    "import ipywidgets as widgets\n",
    "import seaborn as sns"
   ]
  },
  {
   "cell_type": "code",
   "execution_count": 3,
   "metadata": {},
   "outputs": [
    {
     "name": "stdout",
     "output_type": "stream",
     "text": [
      "Adding words: serendipity + cascade = serendipitycascade\n",
      "\n",
      "Why this doesn't work? \n",
      "\n",
      "1. Text is categorical, not numerical\n",
      "2. No mathematical structure\n",
      "3. Models require inputs for computation\n",
      "\n",
      "\n",
      "Trying to measure word similarity:\n",
      "Words: 'serendipity' and 'cascade'\n",
      "Direct comparison only shows if they're exactly equal:\n",
      "Are they equal? False\n",
      "But we can't measure HOW similar they are!\n",
      "\n",
      "Trying to use in numpy array operations:\n",
      "Error: The 'out' kwarg is necessary. Use numpy.strings.multiply without it.\n"
     ]
    }
   ],
   "source": [
    "# Why Text Can't Be Input Directly\n",
    "example_text = [\"serendipity\", \"cascade\", \"ephemeral\", \"zenith\", \"labyrinth\"]\n",
    "\n",
    "# Try to perform mathematical operations directly on text\n",
    "try:\n",
    "    result = example_text[0] + example_text[1]\n",
    "    print(f\"Adding words: {example_text[0]} + {example_text[1]} = {result}\")\n",
    "except TypeError as e:\n",
    "    print(f\"Error: {e}\")\n",
    "    \n",
    "print(\"\"\"\n",
    "Why this doesn't work? \n",
    "\n",
    "1. Text is categorical, not numerical\n",
    "2. No mathematical structure\n",
    "3. Models require inputs for computation\n",
    "\"\"\")\n",
    "\n",
    "\n",
    "# Show what happens when trying to find similarity\n",
    "print(\"\\nTrying to measure word similarity:\")\n",
    "print(f\"Words: '{example_text[0]}' and '{example_text[1]}'\")\n",
    "print(\"Direct comparison only shows if they're exactly equal:\")\n",
    "print(f\"Are they equal? {example_text[0] == example_text[1]}\")\n",
    "print(\"But we can't measure HOW similar they are!\")\n",
    "\n",
    "# Demonstrate array operations failing\n",
    "print(\"\\nTrying to use in numpy array operations:\")\n",
    "try:\n",
    "    word_array = np.array(example_text)\n",
    "    result = word_array * 2\n",
    "    print(result)\n",
    "except TypeError as e:\n",
    "    print(f\"Error: {e}\")\n"
   ]
  },
  {
   "cell_type": "code",
   "execution_count": 4,
   "metadata": {},
   "outputs": [
    {
     "name": "stdout",
     "output_type": "stream",
     "text": [
      "Testing our simple number mapping:\n",
      "hello (number 1) -> greeting\n",
      "howdy (number 4) -> greeting\n",
      "tree (number 7) -> nature\n",
      "ocean (number 11) -> nature\n",
      "\n",
      "Trying with a new word:\n",
      "'Yo!' -> ???  # 13th most common greeting? https://tandem.net/blog/20-greetings-in-english\n",
      "Problem: Our system breaks with unknown words!\n",
      "\n"
     ]
    }
   ],
   "source": [
    "# Cell 2: Naive Approach - Word to Number Mapping\n",
    "word_to_num = {\n",
    "    \"hello\": 1,\n",
    "    \"hi\": 2,\n",
    "    \"hey\": 3, \n",
    "    \"howdy\": 4,\n",
    "    \"greetings\": 5,\n",
    "    \"welcome\": 6,\n",
    "    \"tree\": 7,\n",
    "    \"flower\": 8,\n",
    "    \"mountain\": 9,\n",
    "    \"river\": 10,\n",
    "    \"ocean\": 11,\n",
    "    \"forest\": 12\n",
    "}\n",
    "\n",
    "def is_greeting(word_num):\n",
    "    return word_num in [1, 2, 3, 4, 5, 6]\n",
    "\n",
    "def is_nature(word_num):\n",
    "    return word_num in [7, 8, 9, 10, 11, 12]\n",
    "\n",
    "def simple_classifier(word_num):\n",
    "    # Simulate a simple model that classifies words\n",
    "    return \"greeting\" if is_greeting(word_num) else \"nature\" if is_nature(word_num) else \"unknown\"\n",
    "\n",
    "# Test the classifier\n",
    "test_words = [\"hello\", \"howdy\", \"tree\", \"ocean\"]\n",
    "print(\"Testing our simple number mapping:\")\n",
    "for word in test_words:\n",
    "    num = word_to_num[word]\n",
    "    classification = simple_classifier(num)\n",
    "    print(f\"{word} (number {num}) -> {classification}\")\n",
    "\n",
    "# Try with an unknown word\n",
    "print(\"\"\"\n",
    "Trying with a new word:\n",
    "'Yo!' -> ???  # 13th most common greeting? https://tandem.net/blog/20-greetings-in-english\n",
    "Problem: Our system breaks with unknown words!\n",
    "\"\"\")\n",
    "\n"
   ]
  },
  {
   "cell_type": "code",
   "execution_count": 5,
   "metadata": {},
   "outputs": [
    {
     "name": "stdout",
     "output_type": "stream",
     "text": [
      "\n",
      "Problems with simple number mapping:\n",
      "1. No relationship between similar words\n",
      "   - 'hello' (1) and 'hi' (3) are similar but their numbers aren't\n",
      "2. No context preservation\n",
      "3. Can't handle new words\n",
      "4. Arbitrary number assignment\n",
      "\n"
     ]
    }
   ],
   "source": [
    "\n",
    "print(\"\"\"\n",
    "Problems with simple number mapping:\n",
    "1. No relationship between similar words\n",
    "   - 'hello' (1) and 'hi' (3) are similar but their numbers aren't\n",
    "2. No context preservation\n",
    "3. Can't handle new words\n",
    "4. Arbitrary number assignment\n",
    "\"\"\")\n",
    "\n"
   ]
  },
  {
   "cell_type": "code",
   "execution_count": 6,
   "metadata": {},
   "outputs": [
    {
     "data": {
      "application/vnd.jupyter.widget-view+json": {
       "model_id": "6650a9ed9b93418dbd713f9cfe196002",
       "version_major": 2,
       "version_minor": 0
      },
      "text/plain": [
       "interactive(children=(Dropdown(description='Highlight:', options=('', 'hello', 'hi', 'hey', 'greetings', 'howd…"
      ]
     },
     "metadata": {},
     "output_type": "display_data"
    },
    {
     "data": {
      "text/plain": [
       "<function __main__.plot_embeddings(highlight_word=None)>"
      ]
     },
     "execution_count": 6,
     "metadata": {},
     "output_type": "execute_result"
    }
   ],
   "source": [
    "\n",
    "# Cell 4: Introduction to Word Embeddings\n",
    "# Create some simple 2D embeddings for demonstration\n",
    "simple_embeddings = {\n",
    "    \"hello\":     [0.8, 0.9],\n",
    "    \"hi\":        [0.7, 0.8], \n",
    "    \"hey\":       [0.75, 0.85],\n",
    "    \"greetings\": [0.9, 0.7],\n",
    "    \"howdy\":     [0.85, 0.75],\n",
    "    \"world\":     [-0.5, 0.5],\n",
    "    \"earth\":     [-0.6, 0.4],\n",
    "    \"planet\":    [-0.4, 0.6],\n",
    "    \"tree\":      [-0.8, -0.3],\n",
    "    \"forest\":    [-0.9, -0.4], \n",
    "    \"ocean\":     [-0.7, -0.5],\n",
    "    \"yo\":        [0.65, 0.85],\n",
    "}\n",
    "\n",
    "def plot_embeddings(highlight_word=None):\n",
    "    plt.figure(figsize=(10, 6))\n",
    "    for word, coords in simple_embeddings.items():\n",
    "        if word == highlight_word:\n",
    "            plt.scatter(coords[0], coords[1], c='red', s=100)\n",
    "            plt.annotate(word, (coords[0], coords[1]), fontsize=12, color='red')\n",
    "        else:\n",
    "            plt.scatter(coords[0], coords[1])\n",
    "            plt.annotate(word, (coords[0], coords[1]), fontsize=10)\n",
    "    \n",
    "    plt.title(\"Simple 2D Word Embeddings\")\n",
    "    plt.grid(True)\n",
    "    plt.show()\n",
    "\n",
    "# Interactive widget to highlight words\n",
    "interact(plot_embeddings, \n",
    "        highlight_word=widgets.Dropdown(\n",
    "            options=[''] + list(simple_embeddings.keys()),\n",
    "            description='Highlight:',\n",
    "            value=''\n",
    "        ))\n",
    "\n"
   ]
  },
  {
   "cell_type": "code",
   "execution_count": 7,
   "metadata": {},
   "outputs": [
    {
     "data": {
      "application/vnd.jupyter.widget-view+json": {
       "model_id": "5f4f07218a2b4d1d8ff4af6c3557d781",
       "version_major": 2,
       "version_minor": 0
      },
      "text/plain": [
       "interactive(children=(Dropdown(description='Word:', options=('hello', 'hi', 'hey', 'greetings', 'howdy', 'worl…"
      ]
     },
     "metadata": {},
     "output_type": "display_data"
    },
    {
     "data": {
      "text/plain": [
       "<function __main__.show_similarities(word)>"
      ]
     },
     "execution_count": 7,
     "metadata": {},
     "output_type": "execute_result"
    }
   ],
   "source": [
    "# Cell 5: Similarity in Embedding Space\n",
    "def cosine_similarity(v1, v2):\n",
    "    return np.dot(v1, v2) / (np.linalg.norm(v1) * np.linalg.norm(v2))\n",
    "\n",
    "def find_similar_words(word, n=3):\n",
    "    if word not in simple_embeddings:\n",
    "        return \"Word not found in vocabulary\"\n",
    "    \n",
    "    similarities = {}\n",
    "    word_embedding = simple_embeddings[word]\n",
    "    \n",
    "    for other_word, other_embedding in simple_embeddings.items():\n",
    "        if other_word != word:\n",
    "            similarity = cosine_similarity(word_embedding, other_embedding)\n",
    "            similarities[other_word] = similarity\n",
    "    \n",
    "    # Sort by similarity\n",
    "    sorted_words = sorted(similarities.items(), key=lambda x: x[1], reverse=True)\n",
    "    return sorted_words[:n]\n",
    "\n",
    "# Interactive similarity finder\n",
    "def show_similarities(word):\n",
    "    similar_words = find_similar_words(word)\n",
    "    print(f\"\\nMost similar words to '{word}':\")\n",
    "    for similar_word, similarity in similar_words:\n",
    "        print(f\"{similar_word}: {similarity:.3f}\")\n",
    "    \n",
    "    # Also show the plot with the word highlighted\n",
    "    plot_embeddings(word)\n",
    "\n",
    "interact(show_similarities, \n",
    "        word=widgets.Dropdown(\n",
    "            options=list(simple_embeddings.keys()),\n",
    "            description='Word:',\n",
    "            value='hello'\n",
    "        ))\n",
    "\n"
   ]
  },
  {
   "cell_type": "code",
   "execution_count": 8,
   "metadata": {},
   "outputs": [
    {
     "data": {
      "image/png": "[encoded data removed]",
      "text/plain": [
       "<Figure size 1200x800 with 2 Axes>"
      ]
     },
     "metadata": {},
     "output_type": "display_data"
    },
    {
     "data": {
      "application/vnd.jupyter.widget-view+json": {
       "model_id": "a9d5075c80e34ba7a19eb957c176f13d",
       "version_major": 2,
       "version_minor": 0
      },
      "text/plain": [
       "interactive(children=(Dropdown(description='Word:', index=8, options=('and', 'animals', 'are', 'bring', 'cats'…"
      ]
     },
     "metadata": {},
     "output_type": "display_data"
    },
    {
     "name": "stdout",
     "output_type": "stream",
     "text": [
      "\n",
      "Key Concepts:\n",
      "1. Words are represented by their contexts (surrounding words)\n",
      "2. Similar words appear in similar contexts\n",
      "3. Position and distance between words matters\n",
      "4. This creates meaningful semantic relationships\n",
      "5. Modern embeddings use similar principles but with neural networks\n",
      "\n"
     ]
    }
   ],
   "source": [
    "import numpy as np\n",
    "from collections import defaultdict\n",
    "import matplotlib.pyplot as plt\n",
    "import seaborn as sns\n",
    "\n",
    "corpus = [\n",
    "    \"dogs and cats are friendly pets\",\n",
    "    \"pets like dogs need daily walks\",\n",
    "    \"cats and kittens love to play\",\n",
    "    \"puppies and dogs enjoy running\",\n",
    "    \"pets bring joy to families\",\n",
    "    \"cats enjoy sleeping in sunshine\", \n",
    "    \"dogs love playing fetch games\",\n",
    "    \"kittens and puppies are cute\",\n",
    "    \"pets need food and water\",\n",
    "    \"animals like cats and dogs make great companions\"\n",
    "]\n",
    "\n",
    "def create_context_matrix(corpus, window_size=2):\n",
    "    # Create vocabulary \n",
    "    words = ' '.join(corpus).split()\n",
    "    vocab = sorted(list(set(words)))\n",
    "    word_to_idx = {word: i for i, word in enumerate(vocab)}\n",
    "    \n",
    "    # Initialize context matrix\n",
    "    context_matrix = np.zeros((len(vocab), len(vocab)))\n",
    "    \n",
    "    # Count word co-occurrences with position weighting\n",
    "    for sentence in corpus:\n",
    "        words = sentence.split()\n",
    "        for i, word in enumerate(words):\n",
    "            # Look at surrounding context words\n",
    "            start = max(0, i - window_size)\n",
    "            end = min(len(words), i + window_size + 1)\n",
    "            \n",
    "            for j in range(start, end):\n",
    "                if i != j:\n",
    "                    # Weight by distance - closer words matter more\n",
    "                    distance = abs(i - j)\n",
    "                    weight = 1.0 / distance\n",
    "                    context_matrix[word_to_idx[word]][word_to_idx[words[j]]] += weight\n",
    "    \n",
    "    return context_matrix, vocab\n",
    "\n",
    "def get_similar_words(word, context_matrix, vocab, n=5):\n",
    "    if word not in vocab:\n",
    "        return []\n",
    "    \n",
    "    word_idx = vocab.index(word)\n",
    "    word_vector = context_matrix[word_idx]\n",
    "    \n",
    "    # Calculate cosine similarities\n",
    "    similarities = []\n",
    "    for i, other_word in enumerate(vocab):\n",
    "        if i != word_idx:\n",
    "            other_vector = context_matrix[i]\n",
    "            similarity = np.dot(word_vector, other_vector) / (np.linalg.norm(word_vector) * np.linalg.norm(other_vector))\n",
    "            similarities.append((other_word, similarity))\n",
    "    \n",
    "    return sorted(similarities, key=lambda x: x[1], reverse=True)[:n]\n",
    "\n",
    "def plot_word_similarities(word, context_matrix, vocab):\n",
    "    similar_words = get_similar_words(word, context_matrix, vocab)\n",
    "    if not similar_words:\n",
    "        print(f\"Word '{word}' not found in vocabulary\")\n",
    "        return\n",
    "        \n",
    "    words, scores = zip(*similar_words)\n",
    "    \n",
    "    plt.figure(figsize=(10, 4))\n",
    "    plt.barh(words, scores)\n",
    "    plt.title(f\"Words most semantically similar to '{word}'\")\n",
    "    plt.xlabel(\"Similarity score\")\n",
    "    plt.show()\n",
    "\n",
    "# Create and display context matrix\n",
    "context_matrix, vocab = create_context_matrix(corpus)\n",
    "\n",
    "# Show heatmap of relationships\n",
    "plt.figure(figsize=(12, 8))\n",
    "sns.heatmap(context_matrix, xticklabels=vocab, yticklabels=vocab)\n",
    "plt.title(\"Word Context Relationships\")\n",
    "plt.show()\n",
    "\n",
    "# Interactive widget to explore semantic similarities\n",
    "interact(\n",
    "    lambda word: plot_word_similarities(word, context_matrix, vocab),\n",
    "    word=widgets.Dropdown(\n",
    "        options=vocab,\n",
    "        description='Word:',\n",
    "        value='dogs'\n",
    "    )\n",
    ")\n",
    "\n",
    "print(\"\"\"\n",
    "Key Concepts:\n",
    "1. Words are represented by their contexts (surrounding words)\n",
    "2. Similar words appear in similar contexts\n",
    "3. Position and distance between words matters\n",
    "4. This creates meaningful semantic relationships\n",
    "5. Modern embeddings use similar principles but with neural networks\n",
    "\"\"\")"
   ]
  },
  {
   "cell_type": "code",
   "execution_count": 9,
   "metadata": {},
   "outputs": [
    {
     "data": {
      "application/vnd.jupyter.widget-view+json": {
       "model_id": "e6c1037dc9624dc79004d9e0b5fe428a",
       "version_major": 2,
       "version_minor": 0
      },
      "text/plain": [
       "HBox(children=(Text(value='', description='Add text:', placeholder='Enter text here'), Button(description='Add…"
      ]
     },
     "metadata": {},
     "output_type": "display_data"
    },
    {
     "data": {
      "application/vnd.jupyter.widget-view+json": {
       "model_id": "c1b851efc4c64b089a9c9c5d13383aea",
       "version_major": 2,
       "version_minor": 0
      },
      "text/plain": [
       "HBox(children=(Text(value='', description='Search:', placeholder='Search similar texts'), Button(description='…"
      ]
     },
     "metadata": {},
     "output_type": "display_data"
    },
    {
     "data": {
      "application/vnd.jupyter.widget-view+json": {
       "model_id": "e31513e8e4f54c0288df1f032576ee3c",
       "version_major": 2,
       "version_minor": 0
      },
      "text/plain": [
       "Output()"
      ]
     },
     "metadata": {},
     "output_type": "display_data"
    },
    {
     "data": {
      "application/vnd.plotly.v1+json": {
       "config": {
        "plotlyServerURL": "https://plot.ly"
       },
       "data": [
        {
         "hovertemplate": "x=%{x}<br>y=%{y}<br>z=%{z}<br>text=%{text}<extra></extra>",
         "legendgroup": "",
         "marker": {
          "color": "#636efa",
          "size": 8,
          "symbol": "circle"
         },
         "mode": "markers+text",
         "name": "",
         "scene": "scene",
         "showlegend": false,
         "text": [
          "hello",
          "hi",
          "hey",
          "greetings",
          "world",
          "earth",
          "planet",
          "tree",
          "forest",
          "ocean"
         ],
         "textposition": "top center",
         "type": "scatter3d",
         "x": [
          -0.5666449069976807,
          -0.5736976265907288,
          -0.5912080407142639,
          -0.5130377411842346,
          0.24318799376487732,
          0.45997607707977295,
          0.3637893497943878,
          0.3907569348812103,
          0.4131341576576233,
          0.37374410033226013
         ],
         "y": [
          0.020764624699950218,
          0.04221120849251747,
          -0.009594323113560677,
          -0.015567467547953129,
          -0.253324419260025,
          -0.35553818941116333,
          -0.24379387497901917,
          0.6183869242668152,
          0.5355332493782043,
          -0.3390776515007019
         ],
         "z": [
          0.040219374001026154,
          -0.09926775097846985,
          -0.12165471911430359,
          0.2624742090702057,
          -0.5253576040267944,
          -0.04340789467096329,
          0.2957775890827179,
          0.09669879078865051,
          -0.11191806942224503,
          0.2064361870288849
         ]
        }
       ],
       "layout": {
        "legend": {
         "tracegroupgap": 0
        },
        "scene": {
         "domain": {
          "x": [
           0,
           1
          ],
          "y": [
           0,
           1
          ]
         },
         "xaxis": {
          "title": {
           "text": "x"
          }
         },
         "yaxis": {
          "title": {
           "text": "y"
          }
         },
         "zaxis": {
          "title": {
           "text": "z"
          }
         }
        },
        "template": {
         "data": {
          "bar": [
           {
            "error_x": {
             "color": "#2a3f5f"
            },
            "error_y": {
             "color": "#2a3f5f"
            },
            "marker": {
             "line": {
              "color": "#E5ECF6",
              "width": 0.5
             },
             "pattern": {
              "fillmode": "overlay",
              "size": 10,
              "solidity": 0.2
             }
            },
            "type": "bar"
           }
          ],
          "barpolar": [
           {
            "marker": {
             "line": {
              "color": "#E5ECF6",
              "width": 0.5
             },
             "pattern": {
              "fillmode": "overlay",
              "size": 10,
              "solidity": 0.2
             }
            },
            "type": "barpolar"
           }
          ],
          "carpet": [
           {
            "aaxis": {
             "endlinecolor": "#2a3f5f",
             "gridcolor": "white",
             "linecolor": "white",
             "minorgridcolor": "white",
             "startlinecolor": "#2a3f5f"
            },
            "baxis": {
             "endlinecolor": "#2a3f5f",
             "gridcolor": "white",
             "linecolor": "white",
             "minorgridcolor": "white",
             "startlinecolor": "#2a3f5f"
            },
            "type": "carpet"
           }
          ],
          "choropleth": [
           {
            "colorbar": {
             "outlinewidth": 0,
             "ticks": ""
            },
            "type": "choropleth"
           }
          ],
          "contour": [
           {
            "colorbar": {
             "outlinewidth": 0,
             "ticks": ""
            },
            "colorscale": [
             [
              0,
              "#0d0887"
             ],
             [
              0.1111111111111111,
              "#46039f"
             ],
             [
              0.2222222222222222,
              "#7201a8"
             ],
             [
              0.3333333333333333,
              "#9c179e"
             ],
             [
              0.4444444444444444,
              "#bd3786"
             ],
             [
              0.5555555555555556,
              "#d8576b"
             ],
             [
              0.6666666666666666,
              "#ed7953"
             ],
             [
              0.7777777777777778,
              "#fb9f3a"
             ],
             [
              0.8888888888888888,
              "#fdca26"
             ],
             [
              1,
              "#f0f921"
             ]
            ],
            "type": "contour"
           }
          ],
          "contourcarpet": [
           {
            "colorbar": {
             "outlinewidth": 0,
             "ticks": ""
            },
            "type": "contourcarpet"
           }
          ],
          "heatmap": [
           {
            "colorbar": {
             "outlinewidth": 0,
             "ticks": ""
            },
            "colorscale": [
             [
              0,
              "#0d0887"
             ],
             [
              0.1111111111111111,
              "#46039f"
             ],
             [
              0.2222222222222222,
              "#7201a8"
             ],
             [
              0.3333333333333333,
              "#9c179e"
             ],
             [
              0.4444444444444444,
              "#bd3786"
             ],
             [
              0.5555555555555556,
              "#d8576b"
             ],
             [
              0.6666666666666666,
              "#ed7953"
             ],
             [
              0.7777777777777778,
              "#fb9f3a"
             ],
             [
              0.8888888888888888,
              "#fdca26"
             ],
             [
              1,
              "#f0f921"
             ]
            ],
            "type": "heatmap"
           }
          ],
          "heatmapgl": [
           {
            "colorbar": {
             "outlinewidth": 0,
             "ticks": ""
            },
            "colorscale": [
             [
              0,
              "#0d0887"
             ],
             [
              0.1111111111111111,
              "#46039f"
             ],
             [
              0.2222222222222222,
              "#7201a8"
             ],
             [
              0.3333333333333333,
              "#9c179e"
             ],
             [
              0.4444444444444444,
              "#bd3786"
             ],
             [
              0.5555555555555556,
              "#d8576b"
             ],
             [
              0.6666666666666666,
              "#ed7953"
             ],
             [
              0.7777777777777778,
              "#fb9f3a"
             ],
             [
              0.8888888888888888,
              "#fdca26"
             ],
             [
              1,
              "#f0f921"
             ]
            ],
            "type": "heatmapgl"
           }
          ],
          "histogram": [
           {
            "marker": {
             "pattern": {
              "fillmode": "overlay",
              "size": 10,
              "solidity": 0.2
             }
            },
            "type": "histogram"
           }
          ],
          "histogram2d": [
           {
            "colorbar": {
             "outlinewidth": 0,
             "ticks": ""
            },
            "colorscale": [
             [
              0,
              "#0d0887"
             ],
             [
              0.1111111111111111,
              "#46039f"
             ],
             [
              0.2222222222222222,
              "#7201a8"
             ],
             [
              0.3333333333333333,
              "#9c179e"
             ],
             [
              0.4444444444444444,
              "#bd3786"
             ],
             [
              0.5555555555555556,
              "#d8576b"
             ],
             [
              0.6666666666666666,
              "#ed7953"
             ],
             [
              0.7777777777777778,
              "#fb9f3a"
             ],
             [
              0.8888888888888888,
              "#fdca26"
             ],
             [
              1,
              "#f0f921"
             ]
            ],
            "type": "histogram2d"
           }
          ],
          "histogram2dcontour": [
           {
            "colorbar": {
             "outlinewidth": 0,
             "ticks": ""
            },
            "colorscale": [
             [
              0,
              "#0d0887"
             ],
             [
              0.1111111111111111,
              "#46039f"
             ],
             [
              0.2222222222222222,
              "#7201a8"
             ],
             [
              0.3333333333333333,
              "#9c179e"
             ],
             [
              0.4444444444444444,
              "#bd3786"
             ],
             [
              0.5555555555555556,
              "#d8576b"
             ],
             [
              0.6666666666666666,
              "#ed7953"
             ],
             [
              0.7777777777777778,
              "#fb9f3a"
             ],
             [
              0.8888888888888888,
              "#fdca26"
             ],
             [
              1,
              "#f0f921"
             ]
            ],
            "type": "histogram2dcontour"
           }
          ],
          "mesh3d": [
           {
            "colorbar": {
             "outlinewidth": 0,
             "ticks": ""
            },
            "type": "mesh3d"
           }
          ],
          "parcoords": [
           {
            "line": {
             "colorbar": {
              "outlinewidth": 0,
              "ticks": ""
             }
            },
            "type": "parcoords"
           }
          ],
          "pie": [
           {
            "automargin": true,
            "type": "pie"
           }
          ],
          "scatter": [
           {
            "fillpattern": {
             "fillmode": "overlay",
             "size": 10,
             "solidity": 0.2
            },
            "type": "scatter"
           }
          ],
          "scatter3d": [
           {
            "line": {
             "colorbar": {
              "outlinewidth": 0,
              "ticks": ""
             }
            },
            "marker": {
             "colorbar": {
              "outlinewidth": 0,
              "ticks": ""
             }
            },
            "type": "scatter3d"
           }
          ],
          "scattercarpet": [
           {
            "marker": {
             "colorbar": {
              "outlinewidth": 0,
              "ticks": ""
             }
            },
            "type": "scattercarpet"
           }
          ],
          "scattergeo": [
           {
            "marker": {
             "colorbar": {
              "outlinewidth": 0,
              "ticks": ""
             }
            },
            "type": "scattergeo"
           }
          ],
          "scattergl": [
           {
            "marker": {
             "colorbar": {
              "outlinewidth": 0,
              "ticks": ""
             }
            },
            "type": "scattergl"
           }
          ],
          "scattermapbox": [
           {
            "marker": {
             "colorbar": {
              "outlinewidth": 0,
              "ticks": ""
             }
            },
            "type": "scattermapbox"
           }
          ],
          "scatterpolar": [
           {
            "marker": {
             "colorbar": {
              "outlinewidth": 0,
              "ticks": ""
             }
            },
            "type": "scatterpolar"
           }
          ],
          "scatterpolargl": [
           {
            "marker": {
             "colorbar": {
              "outlinewidth": 0,
              "ticks": ""
             }
            },
            "type": "scatterpolargl"
           }
          ],
          "scatterternary": [
           {
            "marker": {
             "colorbar": {
              "outlinewidth": 0,
              "ticks": ""
             }
            },
            "type": "scatterternary"
           }
          ],
          "surface": [
           {
            "colorbar": {
             "outlinewidth": 0,
             "ticks": ""
            },
            "colorscale": [
             [
              0,
              "#0d0887"
             ],
             [
              0.1111111111111111,
              "#46039f"
             ],
             [
              0.2222222222222222,
              "#7201a8"
             ],
             [
              0.3333333333333333,
              "#9c179e"
             ],
             [
              0.4444444444444444,
              "#bd3786"
             ],
             [
              0.5555555555555556,
              "#d8576b"
             ],
             [
              0.6666666666666666,
              "#ed7953"
             ],
             [
              0.7777777777777778,
              "#fb9f3a"
             ],
             [
              0.8888888888888888,
              "#fdca26"
             ],
             [
              1,
              "#f0f921"
             ]
            ],
            "type": "surface"
           }
          ],
          "table": [
           {
            "cells": {
             "fill": {
              "color": "#EBF0F8"
             },
             "line": {
              "color": "white"
             }
            },
            "header": {
             "fill": {
              "color": "#C8D4E3"
             },
             "line": {
              "color": "white"
             }
            },
            "type": "table"
           }
          ]
         },
         "layout": {
          "annotationdefaults": {
           "arrowcolor": "#2a3f5f",
           "arrowhead": 0,
           "arrowwidth": 1
          },
          "autotypenumbers": "strict",
          "coloraxis": {
           "colorbar": {
            "outlinewidth": 0,
            "ticks": ""
           }
          },
          "colorscale": {
           "diverging": [
            [
             0,
             "#8e0152"
            ],
            [
             0.1,
             "#c51b7d"
            ],
            [
             0.2,
             "#de77ae"
            ],
            [
             0.3,
             "#f1b6da"
            ],
            [
             0.4,
             "#fde0ef"
            ],
            [
             0.5,
             "#f7f7f7"
            ],
            [
             0.6,
             "#e6f5d0"
            ],
            [
             0.7,
             "#b8e186"
            ],
            [
             0.8,
             "#7fbc41"
            ],
            [
             0.9,
             "#4d9221"
            ],
            [
             1,
             "#276419"
            ]
           ],
           "sequential": [
            [
             0,
             "#0d0887"
            ],
            [
             0.1111111111111111,
             "#46039f"
            ],
            [
             0.2222222222222222,
             "#7201a8"
            ],
            [
             0.3333333333333333,
             "#9c179e"
            ],
            [
             0.4444444444444444,
             "#bd3786"
            ],
            [
             0.5555555555555556,
             "#d8576b"
            ],
            [
             0.6666666666666666,
             "#ed7953"
            ],
            [
             0.7777777777777778,
             "#fb9f3a"
            ],
            [
             0.8888888888888888,
             "#fdca26"
            ],
            [
             1,
             "#f0f921"
            ]
           ],
           "sequentialminus": [
            [
             0,
             "#0d0887"
            ],
            [
             0.1111111111111111,
             "#46039f"
            ],
            [
             0.2222222222222222,
             "#7201a8"
            ],
            [
             0.3333333333333333,
             "#9c179e"
            ],
            [
             0.4444444444444444,
             "#bd3786"
            ],
            [
             0.5555555555555556,
             "#d8576b"
            ],
            [
             0.6666666666666666,
             "#ed7953"
            ],
            [
             0.7777777777777778,
             "#fb9f3a"
            ],
            [
             0.8888888888888888,
             "#fdca26"
            ],
            [
             1,
             "#f0f921"
            ]
           ]
          },
          "colorway": [
           "#636efa",
           "#EF553B",
           "#00cc96",
           "#ab63fa",
           "#FFA15A",
           "#19d3f3",
           "#FF6692",
           "#B6E880",
           "#FF97FF",
           "#FECB52"
          ],
          "font": {
           "color": "#2a3f5f"
          },
          "geo": {
           "bgcolor": "white",
           "lakecolor": "white",
           "landcolor": "#E5ECF6",
           "showlakes": true,
           "showland": true,
           "subunitcolor": "white"
          },
          "hoverlabel": {
           "align": "left"
          },
          "hovermode": "closest",
          "mapbox": {
           "style": "light"
          },
          "paper_bgcolor": "white",
          "plot_bgcolor": "#E5ECF6",
          "polar": {
           "angularaxis": {
            "gridcolor": "white",
            "linecolor": "white",
            "ticks": ""
           },
           "bgcolor": "#E5ECF6",
           "radialaxis": {
            "gridcolor": "white",
            "linecolor": "white",
            "ticks": ""
           }
          },
          "scene": {
           "xaxis": {
            "backgroundcolor": "#E5ECF6",
            "gridcolor": "white",
            "gridwidth": 2,
            "linecolor": "white",
            "showbackground": true,
            "ticks": "",
            "zerolinecolor": "white"
           },
           "yaxis": {
            "backgroundcolor": "#E5ECF6",
            "gridcolor": "white",
            "gridwidth": 2,
            "linecolor": "white",
            "showbackground": true,
            "ticks": "",
            "zerolinecolor": "white"
           },
           "zaxis": {
            "backgroundcolor": "#E5ECF6",
            "gridcolor": "white",
            "gridwidth": 2,
            "linecolor": "white",
            "showbackground": true,
            "ticks": "",
            "zerolinecolor": "white"
           }
          },
          "shapedefaults": {
           "line": {
            "color": "#2a3f5f"
           }
          },
          "ternary": {
           "aaxis": {
            "gridcolor": "white",
            "linecolor": "white",
            "ticks": ""
           },
           "baxis": {
            "gridcolor": "white",
            "linecolor": "white",
            "ticks": ""
           },
           "bgcolor": "#E5ECF6",
           "caxis": {
            "gridcolor": "white",
            "linecolor": "white",
            "ticks": ""
           }
          },
          "title": {
           "x": 0.05
          },
          "xaxis": {
           "automargin": true,
           "gridcolor": "white",
           "linecolor": "white",
           "ticks": "",
           "title": {
            "standoff": 15
           },
           "zerolinecolor": "white",
           "zerolinewidth": 2
          },
          "yaxis": {
           "automargin": true,
           "gridcolor": "white",
           "linecolor": "white",
           "ticks": "",
           "title": {
            "standoff": 15
           },
           "zerolinecolor": "white",
           "zerolinewidth": 2
          }
         }
        },
        "title": {
         "text": "3D Text Embeddings"
        }
       }
      }
     },
     "metadata": {},
     "output_type": "display_data"
    },
    {
     "data": {
      "application/vnd.jupyter.widget-view+json": {
       "model_id": "d0b6c558ada54ee482026550d2192112",
       "version_major": 2,
       "version_minor": 0
      },
      "text/plain": [
       "Output()"
      ]
     },
     "metadata": {},
     "output_type": "display_data"
    }
   ],
   "source": [
    "# Import required libraries\n",
    "import numpy as np\n",
    "import pandas as pd\n",
    "from sentence_transformers import SentenceTransformer\n",
    "from sklearn.decomposition import PCA\n",
    "import plotly.express as px\n",
    "from IPython.display import display\n",
    "import ipywidgets as widgets\n",
    "from IPython.display import clear_output\n",
    "\n",
    "# Initialize the embedding model\n",
    "def load_model():\n",
    "    return SentenceTransformer('all-MiniLM-L6-v2')\n",
    "\n",
    "# Function to get embeddings and reduce dimensionality\n",
    "def get_3d_embeddings(texts, model):\n",
    "    # Get embeddings\n",
    "    embeddings = model.encode(texts)\n",
    "\n",
    "    # print the shape of the embeddings\n",
    "    print(embeddings.shape)\n",
    "    \n",
    "    # Reduce to 3D using PCA\n",
    "    pca = PCA(n_components=3)\n",
    "    embeddings_3d = pca.fit_transform(embeddings)\n",
    "    \n",
    "    return embeddings_3d\n",
    "\n",
    "# Function to find similar texts\n",
    "def find_similar_texts(search_text, texts, model, n=5):\n",
    "    # Encode search text and all texts\n",
    "    all_texts = [search_text] + texts\n",
    "    all_embeddings = model.encode(all_texts)\n",
    "    \n",
    "    search_embedding = all_embeddings[0]\n",
    "    text_embeddings = all_embeddings[1:]\n",
    "    \n",
    "    similarities = []\n",
    "    for i, embedding in enumerate(text_embeddings):\n",
    "        similarity = np.dot(search_embedding, embedding) / (np.linalg.norm(search_embedding) * np.linalg.norm(embedding))\n",
    "        similarities.append((texts[i], similarity))\n",
    "    \n",
    "    return sorted(similarities, key=lambda x: x[1], reverse=True)[:n]\n",
    "\n",
    "# Initial example texts\n",
    "default_texts = [\n",
    "    \"hello\", \"hi\", \"hey\", \"greetings\", \n",
    "    \"world\", \"earth\", \"planet\",\n",
    "    \"tree\", \"forest\", \"ocean\"\n",
    "]\n",
    "\n",
    "# Load model\n",
    "model = load_model()\n",
    "\n",
    "# Create widgets\n",
    "text_input = widgets.Text(description='Add text:', placeholder='Enter text here')\n",
    "search_input = widgets.Text(description='Search:', placeholder='Search similar texts')\n",
    "add_button = widgets.Button(description='Add')\n",
    "search_button = widgets.Button(description='Search')\n",
    "\n",
    "# Create output widget for displaying results\n",
    "plot_output = widgets.Output()\n",
    "search_output = widgets.Output()\n",
    "\n",
    "# Current texts list\n",
    "texts = default_texts.copy()\n",
    "\n",
    "def update_plot():\n",
    "    with plot_output:\n",
    "        clear_output(wait=True)\n",
    "        \n",
    "        # Get 3D embeddings\n",
    "        embeddings_3d = get_3d_embeddings(texts, model)\n",
    "\n",
    "        # Create DataFrame for plotting\n",
    "        df = pd.DataFrame({\n",
    "            'text': texts,\n",
    "            'x': embeddings_3d[:, 0],\n",
    "            'y': embeddings_3d[:, 1],\n",
    "            'z': embeddings_3d[:, 2]\n",
    "        })\n",
    "\n",
    "        # Create 3D scatter plot\n",
    "        fig = px.scatter_3d(\n",
    "            df,\n",
    "            x='x',\n",
    "            y='y',\n",
    "            z='z',\n",
    "            text='text',\n",
    "            title='3D Text Embeddings'\n",
    "        )\n",
    "\n",
    "        # Update layout for better visualization\n",
    "        fig.update_traces(\n",
    "            marker=dict(size=8),\n",
    "            textposition='top center'\n",
    "        )\n",
    "\n",
    "        display(fig)\n",
    "\n",
    "def on_add_button_clicked(b):\n",
    "    if text_input.value and text_input.value not in texts:\n",
    "        texts.append(text_input.value)\n",
    "        text_input.value = ''\n",
    "        update_plot()\n",
    "        with search_output:\n",
    "            clear_output()\n",
    "\n",
    "def on_search_button_clicked(b):\n",
    "    with search_output:\n",
    "        clear_output()\n",
    "        if search_input.value:\n",
    "            similar = find_similar_texts(search_input.value, texts, model)\n",
    "            print(\"\\nMost similar texts to '{}':\".format(search_input.value))\n",
    "            for text, similarity in similar:\n",
    "                print(f\"{text}: {similarity:.3f}\")\n",
    "\n",
    "# Connect button clicks to handlers\n",
    "add_button.on_click(on_add_button_clicked)\n",
    "search_button.on_click(on_search_button_clicked)\n",
    "\n",
    "# Display widgets and initial plot\n",
    "display(widgets.HBox([text_input, add_button]))\n",
    "display(widgets.HBox([search_input, search_button]))\n",
    "display(plot_output)\n",
    "display(search_output)\n",
    "\n",
    "# Show initial plot\n",
    "update_plot()\n"
   ]
  },
  {
   "cell_type": "code",
   "execution_count": 10,
   "metadata": {},
   "outputs": [
    {
     "data": {
      "application/vnd.jupyter.widget-view+json": {
       "model_id": "64ffdd70a2cd4b119e09a8e258357d9a",
       "version_major": 2,
       "version_minor": 0
      },
      "text/plain": [
       "HBox(children=(Text(value='', description='Add Text:', placeholder='Enter a new sentence to compare...', style…"
      ]
     },
     "metadata": {},
     "output_type": "display_data"
    },
    {
     "data": {
      "image/png": "[encoded data removed]",
      "text/plain": [
       "<Figure size 1500x500 with 4 Axes>"
      ]
     },
     "metadata": {},
     "output_type": "display_data"
    },
    {
     "name": "stdout",
     "output_type": "stream",
     "text": [
      "\n",
      "Key Differences Analysis:\n",
      "\n",
      "1. TF-IDF vs BERT comparison:\n",
      "\n",
      "Documents with different similarity scores:\n",
      "Doc 1: The cat and dog played together in the yard\n",
      "Doc 2: The feline and canine were engaging in recreational activities\n",
      "TF-IDF similarity: 0.245\n",
      "BERT similarity: 0.649\n",
      "\n",
      "Documents with different similarity scores:\n",
      "Doc 3: Machine learning algorithms process data efficiently\n",
      "Doc 4: Natural language processing helps computers understand text\n",
      "TF-IDF similarity: 0.000\n",
      "BERT similarity: 0.319\n",
      "\n",
      "Documents with different similarity scores:\n",
      "Doc 3: Machine learning algorithms process data efficiently\n",
      "Doc 4: AI and ML are revolutionizing industries\n",
      "TF-IDF similarity: 0.000\n",
      "BERT similarity: 0.368\n",
      "\n",
      "Documents with different similarity scores:\n",
      "Doc 4: Natural language processing helps computers understand text\n",
      "Doc 5: Artificial intelligence is transforming technology\n",
      "TF-IDF similarity: 0.000\n",
      "BERT similarity: 0.378\n",
      "\n",
      "Documents with different similarity scores:\n",
      "Doc 5: Artificial intelligence is transforming technology\n",
      "Doc 6: AI and ML are revolutionizing industries\n",
      "TF-IDF similarity: 0.000\n",
      "BERT similarity: 0.614\n",
      "\n",
      "Documents with different similarity scores:\n",
      "Doc 5: Artificial intelligence is transforming technology\n",
      "Doc 6: Artificial intelligence and machine learning transform businesses\n",
      "TF-IDF similarity: 0.309\n",
      "BERT similarity: 0.662\n",
      "\n",
      "Documents with different similarity scores:\n",
      "Doc 7: The quick brown fox jumps over the lazy dog\n",
      "Doc 8: The feline and canine were engaging in recreational activities\n",
      "TF-IDF similarity: 0.121\n",
      "BERT similarity: 0.424\n",
      "\n",
      "Documents with different similarity scores:\n",
      "Doc 8: AI and ML are revolutionizing industries\n",
      "Doc 9: Artificial intelligence and machine learning transform businesses\n",
      "TF-IDF similarity: 0.063\n",
      "BERT similarity: 0.704\n",
      "\n",
      "Documents with different similarity scores:\n",
      "Doc 11: Data science uses statistical methods\n",
      "Doc 12: Statistics and mathematics are used in data analysis\n",
      "TF-IDF similarity: 0.109\n",
      "BERT similarity: 0.746\n",
      "\n",
      "Key Observations:\n",
      "\n",
      "1. TF-IDF Embeddings:\n",
      "   - Based on word frequency statistics\n",
      "   - Ignores word order and context\n",
      "   - Treats similar words as different ('AI' vs 'artificial intelligence')\n",
      "   - Fast and memory-efficient\n",
      "   - Good for keyword extraction and basic document similarity\n",
      "   \n",
      "2. BERT Embeddings:\n",
      "   - Captures contextual meaning\n",
      "   - Understands semantic relationships\n",
      "   - Recognizes similar concepts even with different words\n",
      "   - More computationally intensive\n",
      "   - Better for understanding language nuances\n",
      "   \n",
      "3. When to Use Each:\n",
      "   - TF-IDF: Simple document classification, keyword extraction, search\n",
      "   - BERT: Complex language understanding, semantic similarity, when context matters\n",
      "\n"
     ]
    }
   ],
   "source": [
    "from sklearn.feature_extraction.text import TfidfVectorizer\n",
    "from sentence_transformers import SentenceTransformer\n",
    "import numpy as np\n",
    "import matplotlib.pyplot as plt\n",
    "import seaborn as sns\n",
    "\n",
    "# Example corpus with diverse examples\n",
    "corpus = [\n",
    "    \"The cat and dog played together in the yard\",\n",
    "    \"The dog and cat were playing in the garden\",  # Similar meaning but different words\n",
    "    \"Machine learning algorithms process data efficiently\",\n",
    "    \"Natural language processing helps computers understand text\",\n",
    "    \"Artificial intelligence is transforming technology\",\n",
    "    \"Deep learning models require large datasets\",\n",
    "    \"The quick brown fox jumps over the lazy dog\",  # Common test sentence\n",
    "    \"AI and ML are revolutionizing industries\",  # Abbreviations vs full words\n",
    "    \"Artificial intelligence and machine learning transform businesses\",  # Same meaning as above\n",
    "    \"The feline and canine were engaging in recreational activities\",  # Formal version of first sentence\n",
    "    \"Data science uses statistical methods\",\n",
    "    \"Statistics and mathematics are used in data analysis\"  # Similar topic, different words\n",
    "]\n",
    "\n",
    "def compare_embeddings(corpus):\n",
    "    # TF-IDF Embeddings with smoothing to prevent divide by zero\n",
    "    tfidf = TfidfVectorizer(smooth_idf=True)  # Add smoothing\n",
    "    tfidf_embeddings = tfidf.fit_transform(corpus).toarray()\n",
    "    \n",
    "    # BERT Embeddings\n",
    "    model = SentenceTransformer('all-MiniLM-L6-v2')\n",
    "    bert_embeddings = model.encode(corpus)\n",
    "    \n",
    "    # Calculate similarity matrices with error handling\n",
    "    def cosine_similarity_matrix(embeddings):\n",
    "        # Add small epsilon to prevent division by zero\n",
    "        epsilon = 1e-8\n",
    "        norm = np.linalg.norm(embeddings, axis=1)\n",
    "        norm = np.maximum(norm, epsilon)  # Ensure no zeros in denominator\n",
    "        normalized = embeddings / norm[:, np.newaxis]\n",
    "        return normalized @ normalized.T\n",
    "    \n",
    "    tfidf_sim = cosine_similarity_matrix(tfidf_embeddings)\n",
    "    bert_sim = cosine_similarity_matrix(bert_embeddings)\n",
    "    \n",
    "    # Visualize similarities\n",
    "    fig, (ax1, ax2) = plt.subplots(1, 2, figsize=(15, 5))\n",
    "\n",
    "    labels = [text[:10]+'...' for text in corpus]\n",
    "\n",
    "    sns.heatmap(tfidf_sim, ax=ax1, annot=True, fmt='.2f', cmap='YlOrRd',\n",
    "                xticklabels=labels, yticklabels=labels)\n",
    "    ax1.set_title('TF-IDF Similarities\\n(Based on word frequency)')\n",
    "    \n",
    "    sns.heatmap(bert_sim, ax=ax2, annot=True, fmt='.2f', cmap='YlOrRd',\n",
    "                xticklabels=labels, yticklabels=labels)\n",
    "    ax2.set_title('BERT Similarities\\n(Based on semantic meaning)')\n",
    "    \n",
    "    plt.tight_layout()\n",
    "    plt.show()\n",
    "    \n",
    "    # Print key differences analysis\n",
    "    print(\"\\nKey Differences Analysis:\")\n",
    "    print(\"\\n1. TF-IDF vs BERT comparison:\")\n",
    "    for i in range(len(corpus)):\n",
    "        for j in range(i+1, len(corpus)):\n",
    "            diff = abs(bert_sim[i,j] - tfidf_sim[i,j])\n",
    "            if diff > 0.3:  # Only show significant differences\n",
    "                print(f\"\\nDocuments with different similarity scores:\")\n",
    "                print(f\"Doc {i+1}: {corpus[i]}\")\n",
    "                print(f\"Doc {i+2}: {corpus[j]}\")\n",
    "                print(f\"TF-IDF similarity: {tfidf_sim[i,j]:.3f}\")\n",
    "                print(f\"BERT similarity: {bert_sim[i,j]:.3f}\")\n",
    "    \n",
    "    return tfidf_embeddings, bert_embeddings\n",
    "\n",
    "# Interactive widget to add new sentences\n",
    "def update_corpus(text_widget, _):\n",
    "    new_sentence = text_widget.value\n",
    "    if new_sentence and new_sentence not in corpus:\n",
    "        corpus.append(new_sentence)\n",
    "        compare_embeddings(corpus)\n",
    "        print(\"\\nKey Differences between TF-IDF and BERT:\")\n",
    "        print(\"1. TF-IDF captures word frequency patterns\")\n",
    "        print(\"2. BERT captures semantic relationships\") \n",
    "        print(\"3. BERT understands word context and order\")\n",
    "        print(\"4. TF-IDF is simpler but misses semantic nuances\")\n",
    "        print(\"\\nExample: 'AI' and 'artificial intelligence' would be:\")\n",
    "        print(\"- Different in TF-IDF (different words)\")\n",
    "        print(\"- Similar in BERT (same meaning)\")\n",
    "        text_widget.value = ''  # Clear the input after adding\n",
    "\n",
    "text_input = widgets.Text(\n",
    "    value='',\n",
    "    placeholder='Enter a new sentence to compare...',\n",
    "    description='Add Text:',\n",
    "    style={'description_width': 'initial'}\n",
    ")\n",
    "\n",
    "add_button = widgets.Button(description='Add')\n",
    "add_button.on_click(lambda b: update_corpus(text_input, b))\n",
    "\n",
    "display(widgets.HBox([text_input, add_button]))\n",
    "\n",
    "# Show initial comparison\n",
    "compare_embeddings(corpus)\n",
    "\n",
    "print(\"\"\"\n",
    "Key Observations:\n",
    "\n",
    "1. TF-IDF Embeddings:\n",
    "   - Based on word frequency statistics\n",
    "   - Ignores word order and context\n",
    "   - Treats similar words as different ('AI' vs 'artificial intelligence')\n",
    "   - Fast and memory-efficient\n",
    "   - Good for keyword extraction and basic document similarity\n",
    "   \n",
    "2. BERT Embeddings:\n",
    "   - Captures contextual meaning\n",
    "   - Understands semantic relationships\n",
    "   - Recognizes similar concepts even with different words\n",
    "   - More computationally intensive\n",
    "   - Better for understanding language nuances\n",
    "   \n",
    "3. When to Use Each:\n",
    "   - TF-IDF: Simple document classification, keyword extraction, search\n",
    "   - BERT: Complex language understanding, semantic similarity, when context matters\n",
    "\"\"\")"
   ]
  },
  {
   "cell_type": "code",
   "execution_count": null,
   "metadata": {},
   "outputs": [],
   "source": []
  },
  {
   "cell_type": "code",
   "execution_count": 20,
   "metadata": {},
   "outputs": [
    {
     "name": "stderr",
     "output_type": "stream",
     "text": [
      "huggingface/tokenizers: The current process just got forked, after parallelism has already been used. Disabling parallelism to avoid deadlocks...\n",
      "To disable this warning, you can either:\n",
      "\t- Avoid using `tokenizers` before the fork if possible\n",
      "\t- Explicitly set the environment variable TOKENIZERS_PARALLELISM=(true | false)\n"
     ]
    },
    {
     "name": "stdout",
     "output_type": "stream",
     "text": [
      "Collecting en-core-web-sm==3.8.0\n",
      "  Downloading https://github.com/explosion/spacy-models/releases/download/en_core_web_sm-3.8.0/en_core_web_sm-3.8.0-py3-none-any.whl (12.8 MB)\n",
      "\u001b[2K     \u001b[90m━━━━━━━━━━━━━━━━━━━━━━━━━━━━━━━━━━━━━━━━\u001b[0m \u001b[32m12.8/12.8 MB\u001b[0m \u001b[31m12.0 MB/s\u001b[0m eta \u001b[36m0:00:00\u001b[0ma \u001b[36m0:00:01\u001b[0m\n",
      "\u001b[?25h\u001b[38;5;2m✔ Download and installation successful\u001b[0m\n",
      "You can now load the package via spacy.load('en_core_web_sm')\n"
     ]
    },
    {
     "data": {
      "application/vnd.jupyter.widget-view+json": {
       "model_id": "0f7ea25c9eb6448ea98add318bf4d1b4",
       "version_major": 2,
       "version_minor": 0
      },
      "text/plain": [
       "VBox(children=(HBox(children=(Text(value='', description='Text:', layout=Layout(width='50%'), placeholder='Ent…"
      ]
     },
     "metadata": {},
     "output_type": "display_data"
    },
    {
     "name": "stdout",
     "output_type": "stream",
     "text": [
      "\n",
      "Try entering different texts to see:\n",
      "1. The sentiment score (-1 to 1)\n",
      "2. A sample of the text embedding vector\n",
      "\n",
      "Example texts to try:\n",
      "- I love this amazing product!\n",
      "- This is the worst experience ever.\n",
      "- The sky is blue.\n",
      "\n"
     ]
    }
   ],
   "source": [
    "\n",
    "# Use spaCy for embeddings and TextBlob for sentiment - lightweight and stable\n",
    "import spacy\n",
    "from textblob import TextBlob\n",
    "import numpy as np\n",
    "import ipywidgets as widgets\n",
    "from IPython.display import display, clear_output\n",
    "\n",
    "# Install spaCy and download the small English model\n",
    "!python -m spacy download en_core_web_sm\n",
    "\n",
    "# Load small English model\n",
    "nlp = spacy.load('en_core_web_sm')\n",
    "\n",
    "def get_embedding(text):\n",
    "    # Get document vector using spaCy\n",
    "    doc = nlp(text)\n",
    "    return doc.vector\n",
    "\n",
    "def get_sentiment(text):\n",
    "    # Get sentiment polarity using TextBlob (-1 to 1)\n",
    "    blob = TextBlob(text)\n",
    "    return blob.sentiment.polarity\n",
    "\n",
    "def analyze_text(text_input, output_widget):\n",
    "    text = text_input.value\n",
    "    if not text:\n",
    "        return\n",
    "        \n",
    "    # Get embedding and sentiment\n",
    "    embedding = get_embedding(text)\n",
    "\n",
    "    # the embed\n",
    "    sentiment = get_sentiment(text)\n",
    "    \n",
    "    # Clear previous output\n",
    "    output_widget.clear_output()\n",
    "    \n",
    "    with output_widget:\n",
    "        print(f\"\\nAnalysis for: '{text}'\")\n",
    "        print(f\"Sentiment score: {sentiment:.2f}\")\n",
    "        if sentiment > 0:\n",
    "            print(\"This text appears positive\")\n",
    "        elif sentiment < 0:\n",
    "            print(\"This text appears negative\") \n",
    "        else:\n",
    "            print(\"This text appears neutral\")\n",
    "            \n",
    "        print(\"\\nText embedding (first 5 dimensions):\")\n",
    "        print(embedding[:5])\n",
    "\n",
    "# Create widgets\n",
    "text_input = widgets.Text(\n",
    "    value='',\n",
    "    placeholder='Enter text to analyze...',\n",
    "    description='Text:',\n",
    "    style={'description_width': 'initial'},\n",
    "    layout=widgets.Layout(width='50%')\n",
    ")\n",
    "\n",
    "analyze_button = widgets.Button(description='Analyze')\n",
    "output = widgets.Output()\n",
    "\n",
    "# Wire up the button click\n",
    "analyze_button.on_click(lambda b: analyze_text(text_input, output))\n",
    "\n",
    "# Display widgets\n",
    "display(widgets.VBox([\n",
    "    widgets.HBox([text_input, analyze_button]),\n",
    "    output\n",
    "]))\n",
    "\n",
    "print(\"\"\"\n",
    "Try entering different texts to see:\n",
    "1. The sentiment score (-1 to 1)\n",
    "2. A sample of the text embedding vector\n",
    "\n",
    "Example texts to try:\n",
    "- I love this amazing product!\n",
    "- This is the worst experience ever.\n",
    "- The sky is blue.\n",
    "\"\"\")\n"
   ]
  }
 ],
 "metadata": {
  "kernelspec": {
   "display_name": ".venv",
   "language": "python",
   "name": "python3"
  },
  "language_info": {
   "codemirror_mode": {
    "name": "ipython",
    "version": 3
   },
   "file_extension": ".py",
   "mimetype": "text/x-python",
   "name": "python",
   "nbconvert_exporter": "python",
   "pygments_lexer": "ipython3",
   "version": "3.10.13"
  }
 },
 "nbformat": 4,
 "nbformat_minor": 2
}
