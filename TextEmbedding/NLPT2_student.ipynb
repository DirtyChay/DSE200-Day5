{
 "nbformat": 4,
 "nbformat_minor": 0,
 "metadata": {
  "colab": {
   "provenance": []
  },
  "kernelspec": {
   "name": "python3",
   "display_name": "Python 3 (ipykernel)",
   "language": "python"
  },
  "language_info": {
   "name": "python"
  }
 },
 "cells": [
  {
   "cell_type": "markdown",
   "source": [
    "## NLP Tookkit Example"
   ],
   "metadata": {
    "id": "jkBTkhhO2pvp"
   }
  },
  {
   "cell_type": "code",
   "metadata": {
    "colab": {
     "base_uri": "https://localhost:8080/",
     "height": 482
    },
    "id": "n6FxOtO12lv1",
    "outputId": "c069772b-6aa6-4ed2-ae2d-5aec1963c0b8",
    "ExecuteTime": {
     "end_time": "2024-11-22T18:49:38.417945Z",
     "start_time": "2024-11-22T18:49:38.329390Z"
    }
   },
   "source": [
    "# from google.colab import drive #give colab access to google drive...\n",
    "# from google.colab import auth\n",
    "import pandas as pd\n",
    "\n",
    "# auth.authenticate_user()\n",
    "# drive.mount('/content/drive')\n",
    "# thePath = '/content/drive/My Drive/DSE200_Data/'  #somewhere sensible....\n",
    "thePath = \"\"\n",
    "\n",
    "theData = pd.read_csv(thePath + 'amazon.csv')\n",
    "\n",
    "theData.head()  #peek at first few rows\n"
   ],
   "outputs": [
    {
     "data": {
      "text/plain": [
       "                     id       asins   brand                  categories  \\\n",
       "0  AVpe7AsMilAPnD_xQ78G  B00QJDU3KY  Amazon  Amazon Devices,mazon.co.uk   \n",
       "1  AVpe7AsMilAPnD_xQ78G  B00QJDU3KY  Amazon  Amazon Devices,mazon.co.uk   \n",
       "2  AVpe7AsMilAPnD_xQ78G  B00QJDU3KY  Amazon  Amazon Devices,mazon.co.uk   \n",
       "3  AVpe7AsMilAPnD_xQ78G  B00QJDU3KY  Amazon  Amazon Devices,mazon.co.uk   \n",
       "4  AVpe7AsMilAPnD_xQ78G  B00QJDU3KY  Amazon  Amazon Devices,mazon.co.uk   \n",
       "\n",
       "  colors             dateAdded           dateUpdated  \\\n",
       "0    NaN  2016-03-08T20:21:53Z  2017-07-18T23:52:58Z   \n",
       "1    NaN  2016-03-08T20:21:53Z  2017-07-18T23:52:58Z   \n",
       "2    NaN  2016-03-08T20:21:53Z  2017-07-18T23:52:58Z   \n",
       "3    NaN  2016-03-08T20:21:53Z  2017-07-18T23:52:58Z   \n",
       "4    NaN  2016-03-08T20:21:53Z  2017-07-18T23:52:58Z   \n",
       "\n",
       "                  dimension  ean                         keys  ...  \\\n",
       "0  169 mm x 117 mm x 9.1 mm  NaN  kindlepaperwhite/b00qjdu3ky  ...   \n",
       "1  169 mm x 117 mm x 9.1 mm  NaN  kindlepaperwhite/b00qjdu3ky  ...   \n",
       "2  169 mm x 117 mm x 9.1 mm  NaN  kindlepaperwhite/b00qjdu3ky  ...   \n",
       "3  169 mm x 117 mm x 9.1 mm  NaN  kindlepaperwhite/b00qjdu3ky  ...   \n",
       "4  169 mm x 117 mm x 9.1 mm  NaN  kindlepaperwhite/b00qjdu3ky  ...   \n",
       "\n",
       "  reviews.rating  \\\n",
       "0            5.0   \n",
       "1            5.0   \n",
       "2            4.0   \n",
       "3            5.0   \n",
       "4            5.0   \n",
       "\n",
       "                                                                                    reviews.sourceURLs  \\\n",
       "0  https://www.amazon.com/Kindle-Paperwhite-High-Resolution-Display-Built/dp/B00QJDU3KY/ref=lp_6669...   \n",
       "1  https://www.amazon.com/Kindle-Paperwhite-High-Resolution-Display-Built/dp/B00QJDU3KY/ref=lp_6669...   \n",
       "2  https://www.amazon.com/Kindle-Paperwhite-High-Resolution-Display-Built/dp/B00QJDU3KY/ref=lp_6669...   \n",
       "3  https://www.amazon.com/Kindle-Paperwhite-High-Resolution-Display-Built/dp/B00QJDU3KY/ref=lp_6669...   \n",
       "4  https://www.amazon.com/Kindle-Paperwhite-High-Resolution-Display-Built/dp/B00QJDU3KY/ref=lp_6669...   \n",
       "\n",
       "                                                                                          reviews.text  \\\n",
       "0  I initially had trouble deciding between the paperwhite and the voyage because reviews more or l...   \n",
       "1  Allow me to preface this with a little history. I am (was) a casual reader who owned a Nook Simp...   \n",
       "2  I am enjoying it so far. Great for reading. Had the original Fire since 2012. The Fire used to m...   \n",
       "3  I bought one of the first Paperwhites and have been very pleased with it its been a constant com...   \n",
       "4  I have to say upfront - I don't like coroporate, hermetically closed stuff like anything by Appl...   \n",
       "\n",
       "                                reviews.title reviews.userCity  \\\n",
       "0              Paperwhite voyage, no regrets!              NaN   \n",
       "1           One Simply Could Not Ask For More              NaN   \n",
       "2  Great for those that just want an e-reader              NaN   \n",
       "3                    Love / Hate relationship              NaN   \n",
       "4                                   I LOVE IT              NaN   \n",
       "\n",
       "  reviews.userProvince    reviews.username  sizes upc     weight  \n",
       "0                  NaN          Cristina M    NaN NaN  205 grams  \n",
       "1                  NaN               Ricky    NaN NaN  205 grams  \n",
       "2                  NaN       Tedd Gardiner    NaN NaN  205 grams  \n",
       "3                  NaN              Dougal    NaN NaN  205 grams  \n",
       "4                  NaN  Miljan David Tanic    NaN NaN  205 grams  \n",
       "\n",
       "[5 rows x 27 columns]"
      ],
      "text/html": [
       "<div>\n",
       "<style scoped>\n",
       "    .dataframe tbody tr th:only-of-type {\n",
       "        vertical-align: middle;\n",
       "    }\n",
       "\n",
       "    .dataframe tbody tr th {\n",
       "        vertical-align: top;\n",
       "    }\n",
       "\n",
       "    .dataframe thead th {\n",
       "        text-align: right;\n",
       "    }\n",
       "</style>\n",
       "<table border=\"1\" class=\"dataframe\">\n",
       "  <thead>\n",
       "    <tr style=\"text-align: right;\">\n",
       "      <th></th>\n",
       "      <th>id</th>\n",
       "      <th>asins</th>\n",
       "      <th>brand</th>\n",
       "      <th>categories</th>\n",
       "      <th>colors</th>\n",
       "      <th>dateAdded</th>\n",
       "      <th>dateUpdated</th>\n",
       "      <th>dimension</th>\n",
       "      <th>ean</th>\n",
       "      <th>keys</th>\n",
       "      <th>...</th>\n",
       "      <th>reviews.rating</th>\n",
       "      <th>reviews.sourceURLs</th>\n",
       "      <th>reviews.text</th>\n",
       "      <th>reviews.title</th>\n",
       "      <th>reviews.userCity</th>\n",
       "      <th>reviews.userProvince</th>\n",
       "      <th>reviews.username</th>\n",
       "      <th>sizes</th>\n",
       "      <th>upc</th>\n",
       "      <th>weight</th>\n",
       "    </tr>\n",
       "  </thead>\n",
       "  <tbody>\n",
       "    <tr>\n",
       "      <th>0</th>\n",
       "      <td>AVpe7AsMilAPnD_xQ78G</td>\n",
       "      <td>B00QJDU3KY</td>\n",
       "      <td>Amazon</td>\n",
       "      <td>Amazon Devices,mazon.co.uk</td>\n",
       "      <td>NaN</td>\n",
       "      <td>2016-03-08T20:21:53Z</td>\n",
       "      <td>2017-07-18T23:52:58Z</td>\n",
       "      <td>169 mm x 117 mm x 9.1 mm</td>\n",
       "      <td>NaN</td>\n",
       "      <td>kindlepaperwhite/b00qjdu3ky</td>\n",
       "      <td>...</td>\n",
       "      <td>5.0</td>\n",
       "      <td>https://www.amazon.com/Kindle-Paperwhite-High-Resolution-Display-Built/dp/B00QJDU3KY/ref=lp_6669...</td>\n",
       "      <td>I initially had trouble deciding between the paperwhite and the voyage because reviews more or l...</td>\n",
       "      <td>Paperwhite voyage, no regrets!</td>\n",
       "      <td>NaN</td>\n",
       "      <td>NaN</td>\n",
       "      <td>Cristina M</td>\n",
       "      <td>NaN</td>\n",
       "      <td>NaN</td>\n",
       "      <td>205 grams</td>\n",
       "    </tr>\n",
       "    <tr>\n",
       "      <th>1</th>\n",
       "      <td>AVpe7AsMilAPnD_xQ78G</td>\n",
       "      <td>B00QJDU3KY</td>\n",
       "      <td>Amazon</td>\n",
       "      <td>Amazon Devices,mazon.co.uk</td>\n",
       "      <td>NaN</td>\n",
       "      <td>2016-03-08T20:21:53Z</td>\n",
       "      <td>2017-07-18T23:52:58Z</td>\n",
       "      <td>169 mm x 117 mm x 9.1 mm</td>\n",
       "      <td>NaN</td>\n",
       "      <td>kindlepaperwhite/b00qjdu3ky</td>\n",
       "      <td>...</td>\n",
       "      <td>5.0</td>\n",
       "      <td>https://www.amazon.com/Kindle-Paperwhite-High-Resolution-Display-Built/dp/B00QJDU3KY/ref=lp_6669...</td>\n",
       "      <td>Allow me to preface this with a little history. I am (was) a casual reader who owned a Nook Simp...</td>\n",
       "      <td>One Simply Could Not Ask For More</td>\n",
       "      <td>NaN</td>\n",
       "      <td>NaN</td>\n",
       "      <td>Ricky</td>\n",
       "      <td>NaN</td>\n",
       "      <td>NaN</td>\n",
       "      <td>205 grams</td>\n",
       "    </tr>\n",
       "    <tr>\n",
       "      <th>2</th>\n",
       "      <td>AVpe7AsMilAPnD_xQ78G</td>\n",
       "      <td>B00QJDU3KY</td>\n",
       "      <td>Amazon</td>\n",
       "      <td>Amazon Devices,mazon.co.uk</td>\n",
       "      <td>NaN</td>\n",
       "      <td>2016-03-08T20:21:53Z</td>\n",
       "      <td>2017-07-18T23:52:58Z</td>\n",
       "      <td>169 mm x 117 mm x 9.1 mm</td>\n",
       "      <td>NaN</td>\n",
       "      <td>kindlepaperwhite/b00qjdu3ky</td>\n",
       "      <td>...</td>\n",
       "      <td>4.0</td>\n",
       "      <td>https://www.amazon.com/Kindle-Paperwhite-High-Resolution-Display-Built/dp/B00QJDU3KY/ref=lp_6669...</td>\n",
       "      <td>I am enjoying it so far. Great for reading. Had the original Fire since 2012. The Fire used to m...</td>\n",
       "      <td>Great for those that just want an e-reader</td>\n",
       "      <td>NaN</td>\n",
       "      <td>NaN</td>\n",
       "      <td>Tedd Gardiner</td>\n",
       "      <td>NaN</td>\n",
       "      <td>NaN</td>\n",
       "      <td>205 grams</td>\n",
       "    </tr>\n",
       "    <tr>\n",
       "      <th>3</th>\n",
       "      <td>AVpe7AsMilAPnD_xQ78G</td>\n",
       "      <td>B00QJDU3KY</td>\n",
       "      <td>Amazon</td>\n",
       "      <td>Amazon Devices,mazon.co.uk</td>\n",
       "      <td>NaN</td>\n",
       "      <td>2016-03-08T20:21:53Z</td>\n",
       "      <td>2017-07-18T23:52:58Z</td>\n",
       "      <td>169 mm x 117 mm x 9.1 mm</td>\n",
       "      <td>NaN</td>\n",
       "      <td>kindlepaperwhite/b00qjdu3ky</td>\n",
       "      <td>...</td>\n",
       "      <td>5.0</td>\n",
       "      <td>https://www.amazon.com/Kindle-Paperwhite-High-Resolution-Display-Built/dp/B00QJDU3KY/ref=lp_6669...</td>\n",
       "      <td>I bought one of the first Paperwhites and have been very pleased with it its been a constant com...</td>\n",
       "      <td>Love / Hate relationship</td>\n",
       "      <td>NaN</td>\n",
       "      <td>NaN</td>\n",
       "      <td>Dougal</td>\n",
       "      <td>NaN</td>\n",
       "      <td>NaN</td>\n",
       "      <td>205 grams</td>\n",
       "    </tr>\n",
       "    <tr>\n",
       "      <th>4</th>\n",
       "      <td>AVpe7AsMilAPnD_xQ78G</td>\n",
       "      <td>B00QJDU3KY</td>\n",
       "      <td>Amazon</td>\n",
       "      <td>Amazon Devices,mazon.co.uk</td>\n",
       "      <td>NaN</td>\n",
       "      <td>2016-03-08T20:21:53Z</td>\n",
       "      <td>2017-07-18T23:52:58Z</td>\n",
       "      <td>169 mm x 117 mm x 9.1 mm</td>\n",
       "      <td>NaN</td>\n",
       "      <td>kindlepaperwhite/b00qjdu3ky</td>\n",
       "      <td>...</td>\n",
       "      <td>5.0</td>\n",
       "      <td>https://www.amazon.com/Kindle-Paperwhite-High-Resolution-Display-Built/dp/B00QJDU3KY/ref=lp_6669...</td>\n",
       "      <td>I have to say upfront - I don't like coroporate, hermetically closed stuff like anything by Appl...</td>\n",
       "      <td>I LOVE IT</td>\n",
       "      <td>NaN</td>\n",
       "      <td>NaN</td>\n",
       "      <td>Miljan David Tanic</td>\n",
       "      <td>NaN</td>\n",
       "      <td>NaN</td>\n",
       "      <td>205 grams</td>\n",
       "    </tr>\n",
       "  </tbody>\n",
       "</table>\n",
       "<p>5 rows × 27 columns</p>\n",
       "</div>"
      ]
     },
     "execution_count": 20,
     "metadata": {},
     "output_type": "execute_result"
    }
   ],
   "execution_count": 20
  },
  {
   "cell_type": "markdown",
   "source": [
    "## Load the NLPToolkit"
   ],
   "metadata": {
    "id": "2JvVXj564lyP"
   }
  },
  {
   "cell_type": "code",
   "source": [
    "# Import NLTK and download required resources\n",
    "# !pip install nltk\n",
    "\n",
    "import nltk\n",
    "\n",
    "nltk.download('punkt')\n",
    "nltk.download('stopwords')\n",
    "nltk.download('wordnet')\n",
    "nltk.download('punkt_tab')\n",
    "nltk.download('averaged_perceptron_tagger')\n",
    "nltk.download('averaged_perceptron_tagger_eng')\n"
   ],
   "metadata": {
    "colab": {
     "base_uri": "https://localhost:8080/"
    },
    "id": "y-9JYUIz4tRP",
    "outputId": "cb782fe0-6502-4e6f-c51a-734473af8083",
    "ExecuteTime": {
     "end_time": "2024-11-22T18:49:38.491484Z",
     "start_time": "2024-11-22T18:49:38.436241Z"
    }
   },
   "outputs": [
    {
     "name": "stderr",
     "output_type": "stream",
     "text": [
      "[nltk_data] Downloading package punkt to /Users/chayan/nltk_data...\n",
      "[nltk_data]   Package punkt is already up-to-date!\n",
      "[nltk_data] Downloading package stopwords to\n",
      "[nltk_data]     /Users/chayan/nltk_data...\n",
      "[nltk_data]   Package stopwords is already up-to-date!\n",
      "[nltk_data] Downloading package wordnet to /Users/chayan/nltk_data...\n",
      "[nltk_data]   Package wordnet is already up-to-date!\n",
      "[nltk_data] Downloading package punkt_tab to\n",
      "[nltk_data]     /Users/chayan/nltk_data...\n",
      "[nltk_data]   Package punkt_tab is already up-to-date!\n",
      "[nltk_data] Downloading package averaged_perceptron_tagger to\n",
      "[nltk_data]     /Users/chayan/nltk_data...\n",
      "[nltk_data]   Package averaged_perceptron_tagger is already up-to-\n",
      "[nltk_data]       date!\n",
      "[nltk_data] Downloading package averaged_perceptron_tagger_eng to\n",
      "[nltk_data]     /Users/chayan/nltk_data...\n",
      "[nltk_data]   Package averaged_perceptron_tagger_eng is already up-to-\n",
      "[nltk_data]       date!\n"
     ]
    },
    {
     "data": {
      "text/plain": [
       "True"
      ]
     },
     "execution_count": 21,
     "metadata": {},
     "output_type": "execute_result"
    }
   ],
   "execution_count": 21
  },
  {
   "cell_type": "markdown",
   "source": [
    "## Let's confirm it works by tokenizing a simple dataset"
   ],
   "metadata": {
    "id": "TThF-7SI41fO"
   }
  },
  {
   "cell_type": "code",
   "source": [
    "from nltk.tokenize import word_tokenize\n",
    "\n",
    "# Tokenize the reviews\n",
    "theData['tokenized_reviews'] = theData['reviews.text'].apply(word_tokenize)\n",
    "\n",
    "# Now create lowercase variation of theData['tokenized_reviews']...\n",
    "# -------------------------\n",
    "\n",
    "theData['lowercase_reviews'] = theData[\"tokenized_reviews\"].apply(lambda x: [word.lower() for word in x])\n",
    "\n",
    "# -------------------------\n",
    "# Display the lowercase tokens\n",
    "pd.set_option('display.max_colwidth', 100)\n",
    "theData[['reviews.text', 'lowercase_reviews']].head()\n"
   ],
   "metadata": {
    "colab": {
     "base_uri": "https://localhost:8080/",
     "height": 367
    },
    "id": "p8rLLmSc41N5",
    "outputId": "08665d4f-14f9-4368-b57f-bab5bf82231e",
    "ExecuteTime": {
     "end_time": "2024-11-22T18:49:39.037087Z",
     "start_time": "2024-11-22T18:49:38.509991Z"
    }
   },
   "outputs": [
    {
     "data": {
      "text/plain": [
       "                                                                                          reviews.text  \\\n",
       "0  I initially had trouble deciding between the paperwhite and the voyage because reviews more or l...   \n",
       "1  Allow me to preface this with a little history. I am (was) a casual reader who owned a Nook Simp...   \n",
       "2  I am enjoying it so far. Great for reading. Had the original Fire since 2012. The Fire used to m...   \n",
       "3  I bought one of the first Paperwhites and have been very pleased with it its been a constant com...   \n",
       "4  I have to say upfront - I don't like coroporate, hermetically closed stuff like anything by Appl...   \n",
       "\n",
       "                                                                                     lowercase_reviews  \n",
       "0  [i, initially, had, trouble, deciding, between, the, paperwhite, and, the, voyage, because, revi...  \n",
       "1  [allow, me, to, preface, this, with, a, little, history, ., i, am, (, was, ), a, casual, reader,...  \n",
       "2  [i, am, enjoying, it, so, far, ., great, for, reading, ., had, the, original, fire, since, 2012,...  \n",
       "3  [i, bought, one, of, the, first, paperwhites, and, have, been, very, pleased, with, it, its, bee...  \n",
       "4  [i, have, to, say, upfront, -, i, do, n't, like, coroporate, ,, hermetically, closed, stuff, lik...  "
      ],
      "text/html": [
       "<div>\n",
       "<style scoped>\n",
       "    .dataframe tbody tr th:only-of-type {\n",
       "        vertical-align: middle;\n",
       "    }\n",
       "\n",
       "    .dataframe tbody tr th {\n",
       "        vertical-align: top;\n",
       "    }\n",
       "\n",
       "    .dataframe thead th {\n",
       "        text-align: right;\n",
       "    }\n",
       "</style>\n",
       "<table border=\"1\" class=\"dataframe\">\n",
       "  <thead>\n",
       "    <tr style=\"text-align: right;\">\n",
       "      <th></th>\n",
       "      <th>reviews.text</th>\n",
       "      <th>lowercase_reviews</th>\n",
       "    </tr>\n",
       "  </thead>\n",
       "  <tbody>\n",
       "    <tr>\n",
       "      <th>0</th>\n",
       "      <td>I initially had trouble deciding between the paperwhite and the voyage because reviews more or l...</td>\n",
       "      <td>[i, initially, had, trouble, deciding, between, the, paperwhite, and, the, voyage, because, revi...</td>\n",
       "    </tr>\n",
       "    <tr>\n",
       "      <th>1</th>\n",
       "      <td>Allow me to preface this with a little history. I am (was) a casual reader who owned a Nook Simp...</td>\n",
       "      <td>[allow, me, to, preface, this, with, a, little, history, ., i, am, (, was, ), a, casual, reader,...</td>\n",
       "    </tr>\n",
       "    <tr>\n",
       "      <th>2</th>\n",
       "      <td>I am enjoying it so far. Great for reading. Had the original Fire since 2012. The Fire used to m...</td>\n",
       "      <td>[i, am, enjoying, it, so, far, ., great, for, reading, ., had, the, original, fire, since, 2012,...</td>\n",
       "    </tr>\n",
       "    <tr>\n",
       "      <th>3</th>\n",
       "      <td>I bought one of the first Paperwhites and have been very pleased with it its been a constant com...</td>\n",
       "      <td>[i, bought, one, of, the, first, paperwhites, and, have, been, very, pleased, with, it, its, bee...</td>\n",
       "    </tr>\n",
       "    <tr>\n",
       "      <th>4</th>\n",
       "      <td>I have to say upfront - I don't like coroporate, hermetically closed stuff like anything by Appl...</td>\n",
       "      <td>[i, have, to, say, upfront, -, i, do, n't, like, coroporate, ,, hermetically, closed, stuff, lik...</td>\n",
       "    </tr>\n",
       "  </tbody>\n",
       "</table>\n",
       "</div>"
      ]
     },
     "execution_count": 22,
     "metadata": {},
     "output_type": "execute_result"
    }
   ],
   "execution_count": 22
  },
  {
   "cell_type": "markdown",
   "source": [
    "## Great so far! Now remove \"stop words\" and punctuation\n",
    "\n",
    "Now -- as we did last week, lets get rid of all the words in our text that are no use to us..."
   ],
   "metadata": {
    "id": "TOnkB1F47od_"
   }
  },
  {
   "cell_type": "code",
   "source": [
    "import string\n",
    "from nltk.corpus import stopwords  # Import the stopwords resource from NLTK\n",
    "\n",
    "# Get English stopwords\n",
    "stop_words = set(stopwords.words('english'))\n",
    "punctuation = set(string.punctuation)  #const set of punctuation marks\n",
    "\n",
    "# Remove stop words and punctuation from theData['lowercase_reviews']\n",
    "# -----------------------\n",
    "\n",
    "theData['cleaned_reviews'] = theData['lowercase_reviews'].apply(\n",
    "    lambda x: [word for word in x if (word not in stop_words and word not in punctuation)]\n",
    ")\n",
    "\n",
    "#------------------------\n",
    "# Show to visually compare our these two variationa...\n",
    "theData[['reviews.text', 'cleaned_reviews']].head()\n"
   ],
   "metadata": {
    "colab": {
     "base_uri": "https://localhost:8080/",
     "height": 206
    },
    "id": "AWSJH81875Bo",
    "outputId": "a432c146-7288-437d-bfed-83b67cdcd368",
    "ExecuteTime": {
     "end_time": "2024-11-22T18:49:39.075897Z",
     "start_time": "2024-11-22T18:49:39.056947Z"
    }
   },
   "outputs": [
    {
     "data": {
      "text/plain": [
       "                                                                                          reviews.text  \\\n",
       "0  I initially had trouble deciding between the paperwhite and the voyage because reviews more or l...   \n",
       "1  Allow me to preface this with a little history. I am (was) a casual reader who owned a Nook Simp...   \n",
       "2  I am enjoying it so far. Great for reading. Had the original Fire since 2012. The Fire used to m...   \n",
       "3  I bought one of the first Paperwhites and have been very pleased with it its been a constant com...   \n",
       "4  I have to say upfront - I don't like coroporate, hermetically closed stuff like anything by Appl...   \n",
       "\n",
       "                                                                                       cleaned_reviews  \n",
       "0  [initially, trouble, deciding, paperwhite, voyage, reviews, less, said, thing, paperwhite, great...  \n",
       "1  [allow, preface, little, history, casual, reader, owned, nook, simple, touch, 2011, 've, read, h...  \n",
       "2  [enjoying, far, great, reading, original, fire, since, 2012, fire, used, make, eyes, hurt, read,...  \n",
       "3  [bought, one, first, paperwhites, pleased, constant, companion, suppose, ive, read, average, boo...  \n",
       "4  [say, upfront, n't, like, coroporate, hermetically, closed, stuff, like, anything, apple, case, ...  "
      ],
      "text/html": [
       "<div>\n",
       "<style scoped>\n",
       "    .dataframe tbody tr th:only-of-type {\n",
       "        vertical-align: middle;\n",
       "    }\n",
       "\n",
       "    .dataframe tbody tr th {\n",
       "        vertical-align: top;\n",
       "    }\n",
       "\n",
       "    .dataframe thead th {\n",
       "        text-align: right;\n",
       "    }\n",
       "</style>\n",
       "<table border=\"1\" class=\"dataframe\">\n",
       "  <thead>\n",
       "    <tr style=\"text-align: right;\">\n",
       "      <th></th>\n",
       "      <th>reviews.text</th>\n",
       "      <th>cleaned_reviews</th>\n",
       "    </tr>\n",
       "  </thead>\n",
       "  <tbody>\n",
       "    <tr>\n",
       "      <th>0</th>\n",
       "      <td>I initially had trouble deciding between the paperwhite and the voyage because reviews more or l...</td>\n",
       "      <td>[initially, trouble, deciding, paperwhite, voyage, reviews, less, said, thing, paperwhite, great...</td>\n",
       "    </tr>\n",
       "    <tr>\n",
       "      <th>1</th>\n",
       "      <td>Allow me to preface this with a little history. I am (was) a casual reader who owned a Nook Simp...</td>\n",
       "      <td>[allow, preface, little, history, casual, reader, owned, nook, simple, touch, 2011, 've, read, h...</td>\n",
       "    </tr>\n",
       "    <tr>\n",
       "      <th>2</th>\n",
       "      <td>I am enjoying it so far. Great for reading. Had the original Fire since 2012. The Fire used to m...</td>\n",
       "      <td>[enjoying, far, great, reading, original, fire, since, 2012, fire, used, make, eyes, hurt, read,...</td>\n",
       "    </tr>\n",
       "    <tr>\n",
       "      <th>3</th>\n",
       "      <td>I bought one of the first Paperwhites and have been very pleased with it its been a constant com...</td>\n",
       "      <td>[bought, one, first, paperwhites, pleased, constant, companion, suppose, ive, read, average, boo...</td>\n",
       "    </tr>\n",
       "    <tr>\n",
       "      <th>4</th>\n",
       "      <td>I have to say upfront - I don't like coroporate, hermetically closed stuff like anything by Appl...</td>\n",
       "      <td>[say, upfront, n't, like, coroporate, hermetically, closed, stuff, like, anything, apple, case, ...</td>\n",
       "    </tr>\n",
       "  </tbody>\n",
       "</table>\n",
       "</div>"
      ]
     },
     "execution_count": 23,
     "metadata": {},
     "output_type": "execute_result"
    }
   ],
   "execution_count": 23
  },
  {
   "cell_type": "markdown",
   "source": [
    "## Remove special chars and drop duplicates\n",
    "\n"
   ],
   "metadata": {
    "id": "jXJj83lG8sa6"
   }
  },
  {
   "cell_type": "code",
   "source": [
    "import re\n",
    "\n",
    "\n",
    "# Function using regex to remove special characters from tokens\n",
    "def remove_special_chars(text):\n",
    "    # My note: may want to do this before because previous steps turn \"I've\" to \"'ve\" when we arrive here\n",
    "    cleaned_text = [re.sub(r'\\W+', '', word) for word in text if re.sub(r'\\W+', '', word) != '']\n",
    "    return cleaned_text\n",
    "\n",
    "\n",
    "# Apply the function to remove special characters\n",
    "theData['cleaned_reviews'] = theData['cleaned_reviews'].apply(remove_special_chars)\n",
    "\n",
    "# Drop duplicate reviews (if any)\n",
    "theData.drop_duplicates(subset='reviews.text', keep='first', inplace=True)\n",
    "\n",
    "# Display the cleaned tokens (without special characters and duplicates)\n",
    "theData[['reviews.text', 'cleaned_reviews']].head()\n"
   ],
   "metadata": {
    "colab": {
     "base_uri": "https://localhost:8080/",
     "height": 400
    },
    "id": "cwcQWMUv82oH",
    "outputId": "505fcf88-aa35-4081-f72b-60aaea5807be",
    "ExecuteTime": {
     "end_time": "2024-11-22T18:49:39.212107Z",
     "start_time": "2024-11-22T18:49:39.106409Z"
    }
   },
   "outputs": [
    {
     "data": {
      "text/plain": [
       "                                                                                          reviews.text  \\\n",
       "0  I initially had trouble deciding between the paperwhite and the voyage because reviews more or l...   \n",
       "1  Allow me to preface this with a little history. I am (was) a casual reader who owned a Nook Simp...   \n",
       "2  I am enjoying it so far. Great for reading. Had the original Fire since 2012. The Fire used to m...   \n",
       "3  I bought one of the first Paperwhites and have been very pleased with it its been a constant com...   \n",
       "4  I have to say upfront - I don't like coroporate, hermetically closed stuff like anything by Appl...   \n",
       "\n",
       "                                                                                       cleaned_reviews  \n",
       "0  [initially, trouble, deciding, paperwhite, voyage, reviews, less, said, thing, paperwhite, great...  \n",
       "1  [allow, preface, little, history, casual, reader, owned, nook, simple, touch, 2011, ve, read, ha...  \n",
       "2  [enjoying, far, great, reading, original, fire, since, 2012, fire, used, make, eyes, hurt, read,...  \n",
       "3  [bought, one, first, paperwhites, pleased, constant, companion, suppose, ive, read, average, boo...  \n",
       "4  [say, upfront, nt, like, coroporate, hermetically, closed, stuff, like, anything, apple, case, a...  "
      ],
      "text/html": [
       "<div>\n",
       "<style scoped>\n",
       "    .dataframe tbody tr th:only-of-type {\n",
       "        vertical-align: middle;\n",
       "    }\n",
       "\n",
       "    .dataframe tbody tr th {\n",
       "        vertical-align: top;\n",
       "    }\n",
       "\n",
       "    .dataframe thead th {\n",
       "        text-align: right;\n",
       "    }\n",
       "</style>\n",
       "<table border=\"1\" class=\"dataframe\">\n",
       "  <thead>\n",
       "    <tr style=\"text-align: right;\">\n",
       "      <th></th>\n",
       "      <th>reviews.text</th>\n",
       "      <th>cleaned_reviews</th>\n",
       "    </tr>\n",
       "  </thead>\n",
       "  <tbody>\n",
       "    <tr>\n",
       "      <th>0</th>\n",
       "      <td>I initially had trouble deciding between the paperwhite and the voyage because reviews more or l...</td>\n",
       "      <td>[initially, trouble, deciding, paperwhite, voyage, reviews, less, said, thing, paperwhite, great...</td>\n",
       "    </tr>\n",
       "    <tr>\n",
       "      <th>1</th>\n",
       "      <td>Allow me to preface this with a little history. I am (was) a casual reader who owned a Nook Simp...</td>\n",
       "      <td>[allow, preface, little, history, casual, reader, owned, nook, simple, touch, 2011, ve, read, ha...</td>\n",
       "    </tr>\n",
       "    <tr>\n",
       "      <th>2</th>\n",
       "      <td>I am enjoying it so far. Great for reading. Had the original Fire since 2012. The Fire used to m...</td>\n",
       "      <td>[enjoying, far, great, reading, original, fire, since, 2012, fire, used, make, eyes, hurt, read,...</td>\n",
       "    </tr>\n",
       "    <tr>\n",
       "      <th>3</th>\n",
       "      <td>I bought one of the first Paperwhites and have been very pleased with it its been a constant com...</td>\n",
       "      <td>[bought, one, first, paperwhites, pleased, constant, companion, suppose, ive, read, average, boo...</td>\n",
       "    </tr>\n",
       "    <tr>\n",
       "      <th>4</th>\n",
       "      <td>I have to say upfront - I don't like coroporate, hermetically closed stuff like anything by Appl...</td>\n",
       "      <td>[say, upfront, nt, like, coroporate, hermetically, closed, stuff, like, anything, apple, case, a...</td>\n",
       "    </tr>\n",
       "  </tbody>\n",
       "</table>\n",
       "</div>"
      ]
     },
     "execution_count": 24,
     "metadata": {},
     "output_type": "execute_result"
    }
   ],
   "execution_count": 24
  },
  {
   "cell_type": "markdown",
   "source": [
    "## We could \"stem\" our words, reduce by brute force to base form. For example: 'coding'=>'code"
   ],
   "metadata": {
    "id": "JgZf-pfABb-V"
   }
  },
  {
   "cell_type": "code",
   "source": [
    "\n",
    "from nltk.stem import PorterStemmer\n",
    "\n",
    "# Initialize the stemmer\n",
    "stemmer = PorterStemmer()\n",
    "\n",
    "# Apply stemming to the tokens -- write code to stem theData['cleaned_reviews']\n",
    "theData['stemmed_reviews'] = theData['cleaned_reviews'].apply(\n",
    "    lambda x: [stemmer.stem(word) for word in x]\n",
    ")\n",
    "\n",
    "# Compare our these two variationa...\n",
    "theData[['cleaned_reviews', 'stemmed_reviews']].head()\n"
   ],
   "metadata": {
    "id": "p2pQaYobB6B-",
    "colab": {
     "base_uri": "https://localhost:8080/",
     "height": 206
    },
    "outputId": "398125f7-8795-4025-dff8-f53c485e980b",
    "ExecuteTime": {
     "end_time": "2024-11-22T18:49:39.662951Z",
     "start_time": "2024-11-22T18:49:39.241612Z"
    }
   },
   "outputs": [
    {
     "data": {
      "text/plain": [
       "                                                                                       cleaned_reviews  \\\n",
       "0  [initially, trouble, deciding, paperwhite, voyage, reviews, less, said, thing, paperwhite, great...   \n",
       "1  [allow, preface, little, history, casual, reader, owned, nook, simple, touch, 2011, ve, read, ha...   \n",
       "2  [enjoying, far, great, reading, original, fire, since, 2012, fire, used, make, eyes, hurt, read,...   \n",
       "3  [bought, one, first, paperwhites, pleased, constant, companion, suppose, ive, read, average, boo...   \n",
       "4  [say, upfront, nt, like, coroporate, hermetically, closed, stuff, like, anything, apple, case, a...   \n",
       "\n",
       "                                                                                       stemmed_reviews  \n",
       "0  [initi, troubl, decid, paperwhit, voyag, review, less, said, thing, paperwhit, great, spend, mon...  \n",
       "1  [allow, prefac, littl, histori, casual, reader, own, nook, simpl, touch, 2011, ve, read, harri, ...  \n",
       "2  [enjoy, far, great, read, origin, fire, sinc, 2012, fire, use, make, eye, hurt, read, long, nt, ...  \n",
       "3  [bought, one, first, paperwhit, pleas, constant, companion, suppos, ive, read, averag, book, eve...  \n",
       "4  [say, upfront, nt, like, coropor, hermet, close, stuff, like, anyth, appl, case, amazon, like, d...  "
      ],
      "text/html": [
       "<div>\n",
       "<style scoped>\n",
       "    .dataframe tbody tr th:only-of-type {\n",
       "        vertical-align: middle;\n",
       "    }\n",
       "\n",
       "    .dataframe tbody tr th {\n",
       "        vertical-align: top;\n",
       "    }\n",
       "\n",
       "    .dataframe thead th {\n",
       "        text-align: right;\n",
       "    }\n",
       "</style>\n",
       "<table border=\"1\" class=\"dataframe\">\n",
       "  <thead>\n",
       "    <tr style=\"text-align: right;\">\n",
       "      <th></th>\n",
       "      <th>cleaned_reviews</th>\n",
       "      <th>stemmed_reviews</th>\n",
       "    </tr>\n",
       "  </thead>\n",
       "  <tbody>\n",
       "    <tr>\n",
       "      <th>0</th>\n",
       "      <td>[initially, trouble, deciding, paperwhite, voyage, reviews, less, said, thing, paperwhite, great...</td>\n",
       "      <td>[initi, troubl, decid, paperwhit, voyag, review, less, said, thing, paperwhit, great, spend, mon...</td>\n",
       "    </tr>\n",
       "    <tr>\n",
       "      <th>1</th>\n",
       "      <td>[allow, preface, little, history, casual, reader, owned, nook, simple, touch, 2011, ve, read, ha...</td>\n",
       "      <td>[allow, prefac, littl, histori, casual, reader, own, nook, simpl, touch, 2011, ve, read, harri, ...</td>\n",
       "    </tr>\n",
       "    <tr>\n",
       "      <th>2</th>\n",
       "      <td>[enjoying, far, great, reading, original, fire, since, 2012, fire, used, make, eyes, hurt, read,...</td>\n",
       "      <td>[enjoy, far, great, read, origin, fire, sinc, 2012, fire, use, make, eye, hurt, read, long, nt, ...</td>\n",
       "    </tr>\n",
       "    <tr>\n",
       "      <th>3</th>\n",
       "      <td>[bought, one, first, paperwhites, pleased, constant, companion, suppose, ive, read, average, boo...</td>\n",
       "      <td>[bought, one, first, paperwhit, pleas, constant, companion, suppos, ive, read, averag, book, eve...</td>\n",
       "    </tr>\n",
       "    <tr>\n",
       "      <th>4</th>\n",
       "      <td>[say, upfront, nt, like, coroporate, hermetically, closed, stuff, like, anything, apple, case, a...</td>\n",
       "      <td>[say, upfront, nt, like, coropor, hermet, close, stuff, like, anyth, appl, case, amazon, like, d...</td>\n",
       "    </tr>\n",
       "  </tbody>\n",
       "</table>\n",
       "</div>"
      ]
     },
     "execution_count": 25,
     "metadata": {},
     "output_type": "execute_result"
    }
   ],
   "execution_count": 25
  },
  {
   "cell_type": "markdown",
   "source": [
    "## But 'lemmaization' is more effective -- and contextualized (this code is ready to run)\n"
   ],
   "metadata": {
    "id": "CztQnX8LCGdJ"
   }
  },
  {
   "cell_type": "code",
   "source": [
    "from nltk.stem import WordNetLemmatizer\n",
    "from nltk.corpus import wordnet\n",
    "\n",
    "lemmatizer = WordNetLemmatizer()  #init\n",
    "\n",
    "# todo: what's going on\n",
    "\n",
    "# Function to get the correct part-of-speech tag for lemmatization\n",
    "def get_wordnet_pos(word):\n",
    "    \"\"\"Map POS tag to first character lemmatize() accepts\"\"\"\n",
    "    tag = nltk.pos_tag([word])[0][1][0].upper()\n",
    "    tag_dict = {\"J\": wordnet.ADJ,\n",
    "                \"N\": wordnet.NOUN,\n",
    "                \"V\": wordnet.VERB,\n",
    "                \"R\": wordnet.ADV}\n",
    "    return tag_dict.get(tag, wordnet.NOUN)\n",
    "\n",
    "\n",
    "# Apply lemmatization to the tokens with POS tags\n",
    "theData['lemma_reviews'] = theData['cleaned_reviews'].apply(\n",
    "    lambda x: [lemmatizer.lemmatize(word, get_wordnet_pos(word)) for word in x])\n",
    "theData[['reviews.text', 'lemma_reviews']].head()\n"
   ],
   "metadata": {
    "colab": {
     "base_uri": "https://localhost:8080/",
     "height": 400
    },
    "id": "GsItnbdvCNUX",
    "outputId": "bbde7f66-116c-4820-b086-f7a31ac152b4",
    "ExecuteTime": {
     "end_time": "2024-11-22T18:49:41.480993Z",
     "start_time": "2024-11-22T18:49:39.692317Z"
    }
   },
   "outputs": [
    {
     "data": {
      "text/plain": [
       "                                                                                          reviews.text  \\\n",
       "0  I initially had trouble deciding between the paperwhite and the voyage because reviews more or l...   \n",
       "1  Allow me to preface this with a little history. I am (was) a casual reader who owned a Nook Simp...   \n",
       "2  I am enjoying it so far. Great for reading. Had the original Fire since 2012. The Fire used to m...   \n",
       "3  I bought one of the first Paperwhites and have been very pleased with it its been a constant com...   \n",
       "4  I have to say upfront - I don't like coroporate, hermetically closed stuff like anything by Appl...   \n",
       "\n",
       "                                                                                         lemma_reviews  \n",
       "0  [initially, trouble, decide, paperwhite, voyage, review, less, say, thing, paperwhite, great, sp...  \n",
       "1  [allow, preface, little, history, casual, reader, own, nook, simple, touch, 2011, ve, read, harr...  \n",
       "2  [enjoy, far, great, reading, original, fire, since, 2012, fire, use, make, eye, hurt, read, long...  \n",
       "3  [bought, one, first, paperwhites, pleased, constant, companion, suppose, ive, read, average, boo...  \n",
       "4  [say, upfront, nt, like, coroporate, hermetically, close, stuff, like, anything, apple, case, am...  "
      ],
      "text/html": [
       "<div>\n",
       "<style scoped>\n",
       "    .dataframe tbody tr th:only-of-type {\n",
       "        vertical-align: middle;\n",
       "    }\n",
       "\n",
       "    .dataframe tbody tr th {\n",
       "        vertical-align: top;\n",
       "    }\n",
       "\n",
       "    .dataframe thead th {\n",
       "        text-align: right;\n",
       "    }\n",
       "</style>\n",
       "<table border=\"1\" class=\"dataframe\">\n",
       "  <thead>\n",
       "    <tr style=\"text-align: right;\">\n",
       "      <th></th>\n",
       "      <th>reviews.text</th>\n",
       "      <th>lemma_reviews</th>\n",
       "    </tr>\n",
       "  </thead>\n",
       "  <tbody>\n",
       "    <tr>\n",
       "      <th>0</th>\n",
       "      <td>I initially had trouble deciding between the paperwhite and the voyage because reviews more or l...</td>\n",
       "      <td>[initially, trouble, decide, paperwhite, voyage, review, less, say, thing, paperwhite, great, sp...</td>\n",
       "    </tr>\n",
       "    <tr>\n",
       "      <th>1</th>\n",
       "      <td>Allow me to preface this with a little history. I am (was) a casual reader who owned a Nook Simp...</td>\n",
       "      <td>[allow, preface, little, history, casual, reader, own, nook, simple, touch, 2011, ve, read, harr...</td>\n",
       "    </tr>\n",
       "    <tr>\n",
       "      <th>2</th>\n",
       "      <td>I am enjoying it so far. Great for reading. Had the original Fire since 2012. The Fire used to m...</td>\n",
       "      <td>[enjoy, far, great, reading, original, fire, since, 2012, fire, use, make, eye, hurt, read, long...</td>\n",
       "    </tr>\n",
       "    <tr>\n",
       "      <th>3</th>\n",
       "      <td>I bought one of the first Paperwhites and have been very pleased with it its been a constant com...</td>\n",
       "      <td>[bought, one, first, paperwhites, pleased, constant, companion, suppose, ive, read, average, boo...</td>\n",
       "    </tr>\n",
       "    <tr>\n",
       "      <th>4</th>\n",
       "      <td>I have to say upfront - I don't like coroporate, hermetically closed stuff like anything by Appl...</td>\n",
       "      <td>[say, upfront, nt, like, coroporate, hermetically, close, stuff, like, anything, apple, case, am...</td>\n",
       "    </tr>\n",
       "  </tbody>\n",
       "</table>\n",
       "</div>"
      ]
     },
     "execution_count": 26,
     "metadata": {},
     "output_type": "execute_result"
    }
   ],
   "execution_count": 26
  },
  {
   "cell_type": "markdown",
   "source": [
    "## Sentiment analysis\n",
    "\n",
    "We will use the VADAR library to calculate sentiment from our dataset.  \n",
    "\n",
    "> `compound_score` is overall sentiment <BR>\n",
    "  `sentiment` classifies rows 'positive','negative' or 'neutral'"
   ],
   "metadata": {
    "id": "eLXFi54EFLiC"
   }
  },
  {
   "cell_type": "code",
   "source": [
    "nltk.download('vader_lexicon')\n",
    "from nltk.sentiment.vader import SentimentIntensityAnalyzer\n",
    "\n",
    "theSentimeter = SentimentIntensityAnalyzer()  #init me\n",
    "\n",
    "# todo: looks wrong\n",
    "\n",
    "# --- 1. get polarity_scores for theData['lemma_reviews'] ---\n",
    "\n",
    "theData['sentiment_scores'] = theData['lemma_reviews'].apply(\n",
    "    lambda review: theSentimeter.polarity_scores(' '.join(review))\n",
    ")\n",
    "\n",
    "# --- 2. # Extract just compound value from sentiment score (overall sentiment)\n",
    "\n",
    "theData['compound_score'] = theData['sentiment_scores'].apply(\n",
    "    lambda score_dict: score_dict['compound']\n",
    ")\n",
    "\n",
    "# --- 3. # Categorize based on compound score: POS: > 0.7, NEG: < 0.4 else NEUTRAL\n",
    "\n",
    "theData['sentiment'] = theData['compound_score'].apply(\n",
    "    lambda x: 'positive' if x >= 0.8 else ('negative' if x <= 0.3 else 'neutral')\n",
    ")\n",
    "\n",
    "# Display reviews with their sentiment\n",
    "theData[['tokenized_reviews', 'sentiment_scores', 'compound_score', 'sentiment']].head()\n"
   ],
   "metadata": {
    "colab": {
     "base_uri": "https://localhost:8080/",
     "height": 311
    },
    "id": "UQLII8c7FTCD",
    "outputId": "b2a86e5c-242e-445b-c25a-3a75c19bc836",
    "ExecuteTime": {
     "end_time": "2024-11-22T18:49:41.819234Z",
     "start_time": "2024-11-22T18:49:41.511316Z"
    }
   },
   "outputs": [
    {
     "name": "stderr",
     "output_type": "stream",
     "text": [
      "[nltk_data] Downloading package vader_lexicon to\n",
      "[nltk_data]     /Users/chayan/nltk_data...\n",
      "[nltk_data]   Package vader_lexicon is already up-to-date!\n"
     ]
    },
    {
     "data": {
      "text/plain": [
       "                                                                                     tokenized_reviews  \\\n",
       "0  [I, initially, had, trouble, deciding, between, the, paperwhite, and, the, voyage, because, revi...   \n",
       "1  [Allow, me, to, preface, this, with, a, little, history, ., I, am, (, was, ), a, casual, reader,...   \n",
       "2  [I, am, enjoying, it, so, far, ., Great, for, reading, ., Had, the, original, Fire, since, 2012,...   \n",
       "3  [I, bought, one, of, the, first, Paperwhites, and, have, been, very, pleased, with, it, its, bee...   \n",
       "4  [I, have, to, say, upfront, -, I, do, n't, like, coroporate, ,, hermetically, closed, stuff, lik...   \n",
       "\n",
       "                                                 sentiment_scores  \\\n",
       "0  {'neg': 0.058, 'neu': 0.703, 'pos': 0.238, 'compound': 0.9648}   \n",
       "1  {'neg': 0.073, 'neu': 0.695, 'pos': 0.231, 'compound': 0.9777}   \n",
       "2    {'neg': 0.266, 'neu': 0.422, 'pos': 0.312, 'compound': 0.34}   \n",
       "3  {'neg': 0.042, 'neu': 0.774, 'pos': 0.184, 'compound': 0.9666}   \n",
       "4  {'neg': 0.059, 'neu': 0.622, 'pos': 0.319, 'compound': 0.9946}   \n",
       "\n",
       "   compound_score sentiment  \n",
       "0          0.9648  positive  \n",
       "1          0.9777  positive  \n",
       "2          0.3400   neutral  \n",
       "3          0.9666  positive  \n",
       "4          0.9946  positive  "
      ],
      "text/html": [
       "<div>\n",
       "<style scoped>\n",
       "    .dataframe tbody tr th:only-of-type {\n",
       "        vertical-align: middle;\n",
       "    }\n",
       "\n",
       "    .dataframe tbody tr th {\n",
       "        vertical-align: top;\n",
       "    }\n",
       "\n",
       "    .dataframe thead th {\n",
       "        text-align: right;\n",
       "    }\n",
       "</style>\n",
       "<table border=\"1\" class=\"dataframe\">\n",
       "  <thead>\n",
       "    <tr style=\"text-align: right;\">\n",
       "      <th></th>\n",
       "      <th>tokenized_reviews</th>\n",
       "      <th>sentiment_scores</th>\n",
       "      <th>compound_score</th>\n",
       "      <th>sentiment</th>\n",
       "    </tr>\n",
       "  </thead>\n",
       "  <tbody>\n",
       "    <tr>\n",
       "      <th>0</th>\n",
       "      <td>[I, initially, had, trouble, deciding, between, the, paperwhite, and, the, voyage, because, revi...</td>\n",
       "      <td>{'neg': 0.058, 'neu': 0.703, 'pos': 0.238, 'compound': 0.9648}</td>\n",
       "      <td>0.9648</td>\n",
       "      <td>positive</td>\n",
       "    </tr>\n",
       "    <tr>\n",
       "      <th>1</th>\n",
       "      <td>[Allow, me, to, preface, this, with, a, little, history, ., I, am, (, was, ), a, casual, reader,...</td>\n",
       "      <td>{'neg': 0.073, 'neu': 0.695, 'pos': 0.231, 'compound': 0.9777}</td>\n",
       "      <td>0.9777</td>\n",
       "      <td>positive</td>\n",
       "    </tr>\n",
       "    <tr>\n",
       "      <th>2</th>\n",
       "      <td>[I, am, enjoying, it, so, far, ., Great, for, reading, ., Had, the, original, Fire, since, 2012,...</td>\n",
       "      <td>{'neg': 0.266, 'neu': 0.422, 'pos': 0.312, 'compound': 0.34}</td>\n",
       "      <td>0.3400</td>\n",
       "      <td>neutral</td>\n",
       "    </tr>\n",
       "    <tr>\n",
       "      <th>3</th>\n",
       "      <td>[I, bought, one, of, the, first, Paperwhites, and, have, been, very, pleased, with, it, its, bee...</td>\n",
       "      <td>{'neg': 0.042, 'neu': 0.774, 'pos': 0.184, 'compound': 0.9666}</td>\n",
       "      <td>0.9666</td>\n",
       "      <td>positive</td>\n",
       "    </tr>\n",
       "    <tr>\n",
       "      <th>4</th>\n",
       "      <td>[I, have, to, say, upfront, -, I, do, n't, like, coroporate, ,, hermetically, closed, stuff, lik...</td>\n",
       "      <td>{'neg': 0.059, 'neu': 0.622, 'pos': 0.319, 'compound': 0.9946}</td>\n",
       "      <td>0.9946</td>\n",
       "      <td>positive</td>\n",
       "    </tr>\n",
       "  </tbody>\n",
       "</table>\n",
       "</div>"
      ]
     },
     "execution_count": 27,
     "metadata": {},
     "output_type": "execute_result"
    }
   ],
   "execution_count": 27
  },
  {
   "cell_type": "markdown",
   "source": [
    "## And finally, one more visualization tool to show final result"
   ],
   "metadata": {
    "id": "QZHJRZ4vGIPw"
   }
  },
  {
   "cell_type": "code",
   "source": [
    "!pip install wordcloud\n",
    "\n",
    "# Import required libraries\n",
    "from wordcloud import WordCloud\n",
    "import matplotlib.pyplot as plt\n",
    "\n",
    "#  Get all the words from theData['lemma_reviews'] and make word cloud...\n",
    "\n",
    "# WRITE ME...\n",
    "# theReviews = ''.join([''.join(review) for review in theData['reviews.text']])\n",
    "\n",
    "theCloud = WordCloud(width=800, height=400, background_color='white').generate( ????? )\n",
    "\n",
    "# Present the cloud...\n",
    "\n"
   ],
   "metadata": {
    "colab": {
     "base_uri": "https://localhost:8080/",
     "height": 871
    },
    "id": "lA4NEtwQGNuz",
    "outputId": "9b6dfb84-f10b-4f4f-a7e5-5cca235a4d68",
    "ExecuteTime": {
     "end_time": "2024-11-22T18:49:41.851672Z",
     "start_time": "2024-11-22T18:49:41.849227Z"
    }
   },
   "outputs": [
    {
     "ename": "SyntaxError",
     "evalue": "invalid syntax (3197470163.py, line 12)",
     "output_type": "error",
     "traceback": [
      "\u001B[0;36m  Cell \u001B[0;32mIn[28], line 12\u001B[0;36m\u001B[0m\n\u001B[0;31m    theCloud = WordCloud(width=800, height=400, background_color='white').generate( ????? )\u001B[0m\n\u001B[0m                                                                                    ^\u001B[0m\n\u001B[0;31mSyntaxError\u001B[0m\u001B[0;31m:\u001B[0m invalid syntax\n"
     ]
    }
   ],
   "execution_count": 28
  },
  {
   "cell_type": "markdown",
   "source": [
    "## Ok, that's cool -- but what products were they referring to?\n",
    "\n",
    "Let's build a cloud using this approach:\n",
    "\n",
    "- We iterate through each row of our DataFrame\n",
    "- We use pos_tag to identify proper nouns (likely product names) within the lemma_reviews column\n",
    "- We store these product names along with their cumulative sentiment scores in the product_sentiment dictionary\n"
   ],
   "metadata": {
    "id": "WTHNpSlnHdik"
   }
  },
  {
   "cell_type": "code",
   "source": [
    "import nltk\n",
    "from nltk.corpus import wordnet\n",
    "from nltk.tag import pos_tag\n",
    "\n",
    "# Last challenge.\n",
    "\n",
    "# Some of the words in the theData['lemma_reviews'] refer to products.\n",
    "# How would you find \"product related words\" -- and make a wordcloud\n",
    "# for just them, making scale of the word related to overall use in text?\n",
    "\n",
    "# --- Write me ----\n",
    "\n",
    "\n"
   ],
   "metadata": {
    "colab": {
     "base_uri": "https://localhost:8080/",
     "height": 422
    },
    "id": "Ll6Wui7iHjTZ",
    "outputId": "283f7da5-5814-4304-b1cc-78db241f1cb9"
   },
   "execution_count": 17,
   "outputs": [
    {
     "output_type": "display_data",
     "data": {
      "text/plain": [
       "<Figure size 1000x500 with 1 Axes>"
      ],
      "image/png": "[encoded data removed]"
     },
     "metadata": {}
    }
   ]
  }
 ]
}
