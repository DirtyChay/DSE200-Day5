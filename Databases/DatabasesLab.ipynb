{
 "cells": [
  {
   "metadata": {
    "ExecuteTime": {
     "end_time": "2024-11-23T00:13:46.031863Z",
     "start_time": "2024-11-23T00:13:46.029728Z"
    }
   },
   "cell_type": "code",
   "source": [
    "# %pip install OSMPythonTools\n",
    "# %pip install overpy geopandas matplotlib"
   ],
   "outputs": [],
   "execution_count": 34
  },
  {
   "cell_type": "code",
   "metadata": {
    "ExecuteTime": {
     "end_time": "2024-11-23T00:13:46.043093Z",
     "start_time": "2024-11-23T00:13:46.041037Z"
    }
   },
   "source": [
    "import json\n",
    "import sqlite3\n",
    "import time\n",
    "from typing import Dict, List\n",
    "\n",
    "import numpy as np\n",
    "import pandas as pd\n",
    "import requests\n",
    "from bs4 import BeautifulSoup\n",
    "from census import Census\n",
    "from geopy.geocoders import Nominatim\n",
    "from sklearn.cluster import KMeans\n",
    "from sklearn.preprocessing import StandardScaler"
   ],
   "outputs": [],
   "execution_count": 35
  },
  {
   "metadata": {
    "ExecuteTime": {
     "end_time": "2024-11-23T00:13:46.047092Z",
     "start_time": "2024-11-23T00:13:46.045555Z"
    }
   },
   "cell_type": "code",
   "source": "census_api_key = \"8f75f43b286ec9dca28f4cf8040e681b096ae03e\"",
   "outputs": [],
   "execution_count": 36
  },
  {
   "cell_type": "markdown",
   "metadata": {},
   "source": [
    "# Neighborhood Analysis and Quality of Life Project\n",
    "## Overview\n",
    "\n",
    "You are an urban data scientist analyzing neighborhood characteristics and quality of life metrics across different areas. Your task is to build a comprehensive geospatial analysis using OpenStreetMap data and Census information.\n",
    "\n",
    "### Requirements:\n",
    "1. Geospatial Data Collection\n",
    "- Use OpenStreetMap API to collect Points of Interest (POIs) data\n",
    "- Calculate walkability scores based on POI density and diversity \n",
    "- Get neighborhood boundaries and geographic features\n",
    "- Collect Census demographic and socioeconomic indicators get free key from https://api.census.gov/data/key_signup.html\n",
    "\n",
    "2. Data Processing & Integration \n",
    "- Clean and standardize location data\n",
    "- Calculate spatial metrics (e.g., POI density, distances)\n",
    "- Join Census data with geographic boundaries\n",
    "- Handle missing values and outliers\n",
    "- Store all collected data in SQLite database tables with appropriate schemas\n",
    "\n",
    "3. Analysis & Modeling\n",
    "- Develop walkability and livability scores\n",
    "- Cluster neighborhoods based on characteristics \n",
    "- Build ML models to predict quality of life metrics\n",
    "- Analyze spatial patterns and relationships\n",
    "- Query and analyze data from SQLite database\n",
    "\n",
    "4. Insights & Visualization\n",
    "- Create maps showing spatial distributions\n",
    "- Visualize relationships between variables\n",
    "- Generate neighborhood profiles and rankings\n",
    "- Document key findings and recommendations\n",
    "- Export analysis results to SQLite for persistence\n"
   ]
  },
  {
   "cell_type": "code",
   "metadata": {
    "ExecuteTime": {
     "end_time": "2024-11-23T00:13:46.053680Z",
     "start_time": "2024-11-23T00:13:46.052079Z"
    }
   },
   "source": [
    "# # Create database connection\n",
    "# conn = sqlite3.connect('neighborhood_analysis.db')\n",
    "# cursor = conn.cursor()\n",
    "#\n",
    "# # Create tables HERE\n",
    "# cursor.execute('''\n",
    "# CREATE TABLE ...\n",
    "# )''')\n",
    "#\n",
    "# cursor.execute('''\n",
    "# CREATE TABLE ...\n",
    "# )''')\n",
    "#\n",
    "# cursor.execute('''\n",
    "# CREATE TABLE ...\n",
    "# )''')"
   ],
   "outputs": [],
   "execution_count": 37
  },
  {
   "cell_type": "code",
   "metadata": {
    "ExecuteTime": {
     "end_time": "2024-11-23T00:58:39.144914Z",
     "start_time": "2024-11-23T00:58:39.134931Z"
    }
   },
   "source": [
    "## Part 2: Data Collection Tasks\n",
    "import overpy\n",
    "\n",
    "api = overpy.Overpass()\n",
    "\n",
    "\n",
    "# todo: could skip and get amentities\n",
    "\n",
    "def get_neighborhood_boundaries(city: str, state: str) -> pd.DataFrame:\n",
    "    \"\"\"\n",
    "    Get neighborhood boundaries using OpenStreetMap API.\n",
    "\n",
    "    Parameters:\n",
    "        city: Name of the city\n",
    "        state: State name\n",
    "\n",
    "    Returns:\n",
    "        DataFrame containing neighborhood names and their bounding boxes (min x, min y, max x, max y).\n",
    "    \"\"\"\n",
    "    # Overpass API query to get neighborhood boundaries\n",
    "    query = f\"\"\"\n",
    "    [out:json][timeout:25];\n",
    "    area[\"name\"=\"{state}\"]->.stateArea;\n",
    "    relation[\"name\"=\"{city}\"][\"admin_level\"=\"8\"](area.stateArea);\n",
    "    out body;\n",
    "    >;\n",
    "    out skel qt;\n",
    "    \"\"\"\n",
    "\n",
    "    try:\n",
    "        # Execute the query\n",
    "        result = api.query(query)\n",
    "\n",
    "        # Collect neighborhood data\n",
    "        data = []\n",
    "        for relation in result.relations:\n",
    "            # Get the name of the neighborhood (if available)\n",
    "            name = relation.tags.get(\"name\", \"Unknown\")\n",
    "\n",
    "            # Initialize bounding box values\n",
    "            min_lon, min_lat = float('inf'), float('inf')\n",
    "            max_lon, max_lat = float('-inf'), float('-inf')\n",
    "\n",
    "            # Extract coordinates and update bounding box\n",
    "            for member in relation.members:\n",
    "                if member.role == \"outer\" and isinstance(member, overpy.RelationWay):\n",
    "                    way = member.resolve()\n",
    "                    for node in way.nodes:\n",
    "                        lat, lon = node.lat, node.lon\n",
    "                        min_lon = min(min_lon, lon)\n",
    "                        max_lon = max(max_lon, lon)\n",
    "                        min_lat = min(min_lat, lat)\n",
    "                        max_lat = max(max_lat, lat)\n",
    "\n",
    "            # Append bounding box data\n",
    "            data.append({\n",
    "                \"name\": name,\n",
    "                \"min_lon\": min_lon,\n",
    "                \"min_lat\": min_lat,\n",
    "                \"max_lon\": max_lon,\n",
    "                \"max_lat\": max_lat\n",
    "            })\n",
    "\n",
    "        # Convert the data to a pandas DataFrame\n",
    "        df = pd.DataFrame(data)\n",
    "        return df\n",
    "\n",
    "    except Exception as e:\n",
    "        print(f\"Error: {e}\")\n",
    "        return pd.DataFrame()\n",
    "\n",
    "\n",
    "def get_points_of_interest(bbox: tuple) -> pd.DataFrame:\n",
    "    \"\"\"\n",
    "    Get POIs (schools, restaurants, parks, etc) using OpenStreetMap API\n",
    "\n",
    "    Parameters:\n",
    "        bbox: Tuple of (min_lat, min_lon, max_lat, max_lon) defining search area\n",
    "\n",
    "    Returns:\n",
    "        DataFrame containing POI locations and attributes\n",
    "    \"\"\"\n",
    "    # Unpack bounding box\n",
    "    min_lat, min_lon, max_lat, max_lon = bbox\n",
    "\n",
    "    # Overpass API query to fetch POIs\n",
    "    query = f\"\"\"\n",
    "    [out:json][timeout:25];\n",
    "    (\n",
    "      node[\"amenity\"](bbox:{min_lat},{min_lon},{max_lat},{max_lon});\n",
    "      way[\"amenity\"](bbox:{min_lat},{min_lon},{max_lat},{max_lon});\n",
    "      relation[\"amenity\"](bbox:{min_lat},{min_lon},{max_lat},{max_lon});\n",
    "    );\n",
    "    out center; // Return center for ways and relations\n",
    "    \"\"\"\n",
    "\n",
    "    try:\n",
    "        # Execute the query\n",
    "        result = api.query(query)\n",
    "\n",
    "        # Collect POI data\n",
    "        data = []\n",
    "\n",
    "        # Nodes\n",
    "        for node in result.nodes:\n",
    "            data.append({\n",
    "                \"type\": \"node\",\n",
    "                \"id\": node.id,\n",
    "                \"lat\": node.lat,\n",
    "                \"lon\": node.lon,\n",
    "                \"tags\": node.tags\n",
    "            })\n",
    "\n",
    "        # Ways\n",
    "        for way in result.ways:\n",
    "            center = way.center\n",
    "            data.append({\n",
    "                \"type\": \"way\",\n",
    "                \"id\": way.id,\n",
    "                \"lat\": center.lat if center else None,\n",
    "                \"lon\": center.lon if center else None,\n",
    "                \"tags\": way.tags\n",
    "            })\n",
    "\n",
    "        # Relations\n",
    "        for relation in result.relations:\n",
    "            center = relation.center\n",
    "            data.append({\n",
    "                \"type\": \"relation\",\n",
    "                \"id\": relation.id,\n",
    "                \"lat\": center.lat if center else None,\n",
    "                \"lon\": center.lon if center else None,\n",
    "                \"tags\": relation.tags\n",
    "            })\n",
    "\n",
    "        # Convert the data to a pandas DataFrame\n",
    "        df = pd.DataFrame(data)\n",
    "        return df\n",
    "\n",
    "    except Exception as e:\n",
    "        print(f\"Error: {e}\")\n",
    "        return pd.DataFrame()\n",
    "\n",
    "\n",
    "def get_census_data(city: str, state: str, api_key: str) -> pd.DataFrame:\n",
    "    \"\"\"\n",
    "    Get demographic and socioeconomic Census data\n",
    "    \n",
    "    Parameters:\n",
    "        city: Name of the city\n",
    "        state: State abbreviation\n",
    "        api_key: Census API key\n",
    "        \n",
    "    Returns:\n",
    "        DataFrame containing population, income, education and other metrics\n",
    "    \"\"\"\n",
    "    # Your code here\n",
    "    pass\n",
    "\n",
    "\n",
    "def calculate_walkability(pois_df: pd.DataFrame) -> float:\n",
    "    \"\"\"\n",
    "    Calculate walkability score based on POI density and diversity\n",
    "    \n",
    "    Parameters:\n",
    "        pois_df: DataFrame containing POI data\n",
    "        \n",
    "    Returns:\n",
    "        Walkability score from 0-100\n",
    "    \"\"\"\n",
    "    # Your code here\n",
    "    pass\n",
    "\n",
    "\n",
    "'''\n",
    "[out:json][timeout:25];\n",
    "    (\n",
    "      node[\"amenity\"](bbox:32.5347979, -117.3098161, 33.1141940, -116.9057417);\n",
    "      way[\"amenity\"](bbox:32.5347979, -117.3098161, 33.1141940, -116.9057417);\n",
    "      relation[\"amenity\"](bbox:32.5347979, -117.3098161, 33.1141940, -116.9057417);\n",
    "    );\n",
    "    out center; // Return center for ways and relations\n",
    "'''"
   ],
   "outputs": [],
   "execution_count": 52
  },
  {
   "metadata": {
    "ExecuteTime": {
     "end_time": "2024-11-23T00:47:13.650943Z",
     "start_time": "2024-11-23T00:47:11.737748Z"
    }
   },
   "cell_type": "code",
   "source": "get_neighborhood_boundaries(\"San Diego\", \"California\")",
   "outputs": [
    {
     "data": {
      "text/plain": [
       "        name       min_lon     min_lat       max_lon     max_lat\n",
       "0  San Diego  -117.3098161  32.5347979  -116.9057417  33.1141940"
      ],
      "text/html": [
       "<div>\n",
       "<style scoped>\n",
       "    .dataframe tbody tr th:only-of-type {\n",
       "        vertical-align: middle;\n",
       "    }\n",
       "\n",
       "    .dataframe tbody tr th {\n",
       "        vertical-align: top;\n",
       "    }\n",
       "\n",
       "    .dataframe thead th {\n",
       "        text-align: right;\n",
       "    }\n",
       "</style>\n",
       "<table border=\"1\" class=\"dataframe\">\n",
       "  <thead>\n",
       "    <tr style=\"text-align: right;\">\n",
       "      <th></th>\n",
       "      <th>name</th>\n",
       "      <th>min_lon</th>\n",
       "      <th>min_lat</th>\n",
       "      <th>max_lon</th>\n",
       "      <th>max_lat</th>\n",
       "    </tr>\n",
       "  </thead>\n",
       "  <tbody>\n",
       "    <tr>\n",
       "      <th>0</th>\n",
       "      <td>San Diego</td>\n",
       "      <td>-117.3098161</td>\n",
       "      <td>32.5347979</td>\n",
       "      <td>-116.9057417</td>\n",
       "      <td>33.1141940</td>\n",
       "    </tr>\n",
       "  </tbody>\n",
       "</table>\n",
       "</div>"
      ]
     },
     "execution_count": 50,
     "metadata": {},
     "output_type": "execute_result"
    }
   ],
   "execution_count": 50
  },
  {
   "metadata": {
    "ExecuteTime": {
     "end_time": "2024-11-23T00:48:21.204928Z",
     "start_time": "2024-11-23T00:48:21.188653Z"
    }
   },
   "cell_type": "code",
   "source": [
    "\n",
    "\n",
    "my_bbox = (-117.3098161,)\n",
    "get_points_of_interest()"
   ],
   "outputs": [
    {
     "ename": "TypeError",
     "evalue": "get_points_of_interest() missing 1 required positional argument: 'bbox'",
     "output_type": "error",
     "traceback": [
      "\u001B[0;31m---------------------------------------------------------------------------\u001B[0m",
      "\u001B[0;31mTypeError\u001B[0m                                 Traceback (most recent call last)",
      "Cell \u001B[0;32mIn[51], line 2\u001B[0m\n\u001B[1;32m      1\u001B[0m my_bbox \u001B[38;5;241m=\u001B[39m (\u001B[38;5;241m-\u001B[39m\u001B[38;5;241m117.3098161\u001B[39m, )\n\u001B[0;32m----> 2\u001B[0m get_points_of_interest()\n",
      "\u001B[0;31mTypeError\u001B[0m: get_points_of_interest() missing 1 required positional argument: 'bbox'"
     ]
    }
   ],
   "execution_count": 51
  },
  {
   "cell_type": "code",
   "execution_count": null,
   "metadata": {},
   "outputs": [],
   "source": [
    "\n",
    "\n",
    "## Part 3: Data Integration and Analysis\n",
    "# 1. Join restaurant and demographic data\n",
    "# 2. Clean and standardize formats\n",
    "# 3. Handle missing values\n",
    "\n",
    "def integrate_data():\n",
    "    \"\"\"\n",
    "    Join and clean data from different sources\n",
    "    \"\"\"\n",
    "    # Your code here\n",
    "    pass\n"
   ]
  },
  {
   "cell_type": "code",
   "execution_count": null,
   "metadata": {},
   "outputs": [],
   "source": [
    "## Part 4: Analysis and Modeling\n",
    "# 1. Develop walkability and livability scores\n",
    "# 2. Cluster neighborhoods based on characteristics\n",
    "# 3. Build ML models to predict quality of life metrics\n",
    "# 4. Analyze spatial patterns and relationships\n",
    "# 5. Query and analyze data from SQLite database\n"
   ]
  }
 ],
 "metadata": {
  "language_info": {
   "name": "python"
  },
  "kernelspec": {
   "name": "python3",
   "language": "python",
   "display_name": "Python 3 (ipykernel)"
  }
 },
 "nbformat": 4,
 "nbformat_minor": 2
}
