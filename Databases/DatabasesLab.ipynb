{
 "cells": [
  {
   "metadata": {
    "ExecuteTime": {
     "end_time": "2024-11-23T00:13:46.031863Z",
     "start_time": "2024-11-23T00:13:46.029728Z"
    }
   },
   "cell_type": "code",
   "source": [
    "# %pip install OSMPythonTools\n",
    "# %pip install overpy geopandas matplotlib"
   ],
   "outputs": [],
   "execution_count": 34
  },
  {
   "cell_type": "code",
   "metadata": {
    "ExecuteTime": {
     "end_time": "2024-11-23T00:13:46.043093Z",
     "start_time": "2024-11-23T00:13:46.041037Z"
    }
   },
   "source": [
    "import json\n",
    "import sqlite3\n",
    "import time\n",
    "from typing import Dict, List\n",
    "\n",
    "import numpy as np\n",
    "import pandas as pd\n",
    "import requests\n",
    "from bs4 import BeautifulSoup\n",
    "from census import Census\n",
    "from geopy.geocoders import Nominatim\n",
    "from sklearn.cluster import KMeans\n",
    "from sklearn.preprocessing import StandardScaler"
   ],
   "outputs": [],
   "execution_count": 35
  },
  {
   "metadata": {
    "ExecuteTime": {
     "end_time": "2024-11-23T00:13:46.047092Z",
     "start_time": "2024-11-23T00:13:46.045555Z"
    }
   },
   "cell_type": "code",
   "source": "census_api_key = \"8f75f43b286ec9dca28f4cf8040e681b096ae03e\"",
   "outputs": [],
   "execution_count": 36
  },
  {
   "cell_type": "markdown",
   "metadata": {},
   "source": [
    "# Neighborhood Analysis and Quality of Life Project\n",
    "## Overview\n",
    "\n",
    "You are an urban data scientist analyzing neighborhood characteristics and quality of life metrics across different areas. Your task is to build a comprehensive geospatial analysis using OpenStreetMap data and Census information.\n",
    "\n",
    "### Requirements:\n",
    "1. Geospatial Data Collection\n",
    "- Use OpenStreetMap API to collect Points of Interest (POIs) data\n",
    "- Calculate walkability scores based on POI density and diversity \n",
    "- Get neighborhood boundaries and geographic features\n",
    "- Collect Census demographic and socioeconomic indicators get free key from https://api.census.gov/data/key_signup.html\n",
    "\n",
    "2. Data Processing & Integration \n",
    "- Clean and standardize location data\n",
    "- Calculate spatial metrics (e.g., POI density, distances)\n",
    "- Join Census data with geographic boundaries\n",
    "- Handle missing values and outliers\n",
    "- Store all collected data in SQLite database tables with appropriate schemas\n",
    "\n",
    "3. Analysis & Modeling\n",
    "- Develop walkability and livability scores\n",
    "- Cluster neighborhoods based on characteristics \n",
    "- Build ML models to predict quality of life metrics\n",
    "- Analyze spatial patterns and relationships\n",
    "- Query and analyze data from SQLite database\n",
    "\n",
    "4. Insights & Visualization\n",
    "- Create maps showing spatial distributions\n",
    "- Visualize relationships between variables\n",
    "- Generate neighborhood profiles and rankings\n",
    "- Document key findings and recommendations\n",
    "- Export analysis results to SQLite for persistence\n"
   ]
  },
  {
   "cell_type": "code",
   "metadata": {
    "ExecuteTime": {
     "end_time": "2024-11-23T00:13:46.053680Z",
     "start_time": "2024-11-23T00:13:46.052079Z"
    }
   },
   "source": [
    "# # Create database connection\n",
    "# conn = sqlite3.connect('neighborhood_analysis.db')\n",
    "# cursor = conn.cursor()\n",
    "#\n",
    "# # Create tables HERE\n",
    "# cursor.execute('''\n",
    "# CREATE TABLE ...\n",
    "# )''')\n",
    "#\n",
    "# cursor.execute('''\n",
    "# CREATE TABLE ...\n",
    "# )''')\n",
    "#\n",
    "# cursor.execute('''\n",
    "# CREATE TABLE ...\n",
    "# )''')"
   ],
   "outputs": [],
   "execution_count": 37
  },
  {
   "cell_type": "code",
   "metadata": {
    "ExecuteTime": {
     "end_time": "2024-11-23T00:13:53.269733Z",
     "start_time": "2024-11-23T00:13:53.264226Z"
    }
   },
   "source": [
    "## Part 2: Data Collection Tasks\n",
    "import overpy\n",
    "api = overpy.Overpass()\n",
    "\n",
    "def get_neighborhood_boundaries(city: str, state: str) -> pd.DataFrame:\n",
    "    \"\"\"\n",
    "    Get neighborhood boundaries using OpenStreetMap API\n",
    "    \n",
    "    Parameters:\n",
    "        city: Name of the city\n",
    "        state: State abbreviation (e.g. 'MA')\n",
    "        \n",
    "    Returns:\n",
    "        DataFrame containing neighborhood boundaries and names\n",
    "    \"\"\"\n",
    "    # Your code here\n",
    "    query = f\"\"\"\n",
    "    [out:json][timeout:25];\n",
    "    // Search for the administrative boundary of the city and state\n",
    "    area[\"name\"=\"California\"]->.stateArea; // Replace with the state name\n",
    "    relation[\"name\"=\"San Diego\"][\"admin_level\"=\"8\"](area.stateArea); // Replace with the city name\n",
    "\n",
    "    // Output the result\n",
    "    out body;\n",
    "    >;\n",
    "    out skel qt;\n",
    "    \"\"\"\n",
    "    # Execute the query\n",
    "    result = api.query(query)\n",
    "    data = []\n",
    "    for relation in result.relations:\n",
    "        # Get the name and boundary (if available)\n",
    "        name = relation.tags.get(\"name\", \"Unknown\")\n",
    "        geometry = relation.tags.get(\"boundary\", None)\n",
    "\n",
    "        # Append the data\n",
    "        data.append({\n",
    "            \"neighborhood\": name,\n",
    "            \"geometry\": geometry,\n",
    "        })\n",
    "\n",
    "    # Convert the data to a pandas DataFrame\n",
    "    df = pd.DataFrame(data)\n",
    "    return df\n",
    "\n",
    "\n",
    "def get_points_of_interest(bbox: tuple) -> pd.DataFrame:\n",
    "    \"\"\"\n",
    "    Get POIs (schools, restaurants, parks, etc) using OpenStreetMap API\n",
    "    \n",
    "    Parameters:\n",
    "        bbox: Tuple of (min_lat, min_lon, max_lat, max_lon) defining search area\n",
    "        \n",
    "    Returns:\n",
    "        DataFrame containing POI locations and attributes\n",
    "    \"\"\"\n",
    "    # Your code here \n",
    "    pass\n",
    "\n",
    "\n",
    "def get_census_data(city: str, state: str, api_key: str) -> pd.DataFrame:\n",
    "    \"\"\"\n",
    "    Get demographic and socioeconomic Census data\n",
    "    \n",
    "    Parameters:\n",
    "        city: Name of the city\n",
    "        state: State abbreviation\n",
    "        api_key: Census API key\n",
    "        \n",
    "    Returns:\n",
    "        DataFrame containing population, income, education and other metrics\n",
    "    \"\"\"\n",
    "    # Your code here\n",
    "    pass\n",
    "\n",
    "\n",
    "def calculate_walkability(pois_df: pd.DataFrame) -> float:\n",
    "    \"\"\"\n",
    "    Calculate walkability score based on POI density and diversity\n",
    "    \n",
    "    Parameters:\n",
    "        pois_df: DataFrame containing POI data\n",
    "        \n",
    "    Returns:\n",
    "        Walkability score from 0-100\n",
    "    \"\"\"\n",
    "    # Your code here\n",
    "    pass\n"
   ],
   "outputs": [],
   "execution_count": 38
  },
  {
   "metadata": {
    "ExecuteTime": {
     "end_time": "2024-11-23T00:13:55.693581Z",
     "start_time": "2024-11-23T00:13:53.860668Z"
    }
   },
   "cell_type": "code",
   "source": "get_neighborhood_boundaries(\"San Diego\", \"CA\")",
   "outputs": [
    {
     "data": {
      "text/plain": [
       "       neighborhood geometry\n",
       "0     Pepper Canyon     None\n",
       "1  Ocean View Hills     None"
      ],
      "text/html": [
       "<div>\n",
       "<style scoped>\n",
       "    .dataframe tbody tr th:only-of-type {\n",
       "        vertical-align: middle;\n",
       "    }\n",
       "\n",
       "    .dataframe tbody tr th {\n",
       "        vertical-align: top;\n",
       "    }\n",
       "\n",
       "    .dataframe thead th {\n",
       "        text-align: right;\n",
       "    }\n",
       "</style>\n",
       "<table border=\"1\" class=\"dataframe\">\n",
       "  <thead>\n",
       "    <tr style=\"text-align: right;\">\n",
       "      <th></th>\n",
       "      <th>neighborhood</th>\n",
       "      <th>geometry</th>\n",
       "    </tr>\n",
       "  </thead>\n",
       "  <tbody>\n",
       "    <tr>\n",
       "      <th>0</th>\n",
       "      <td>Pepper Canyon</td>\n",
       "      <td>None</td>\n",
       "    </tr>\n",
       "    <tr>\n",
       "      <th>1</th>\n",
       "      <td>Ocean View Hills</td>\n",
       "      <td>None</td>\n",
       "    </tr>\n",
       "  </tbody>\n",
       "</table>\n",
       "</div>"
      ]
     },
     "execution_count": 39,
     "metadata": {},
     "output_type": "execute_result"
    }
   ],
   "execution_count": 39
  },
  {
   "cell_type": "code",
   "execution_count": null,
   "metadata": {},
   "outputs": [],
   "source": [
    "\n",
    "\n",
    "## Part 3: Data Integration and Analysis\n",
    "# 1. Join restaurant and demographic data\n",
    "# 2. Clean and standardize formats\n",
    "# 3. Handle missing values\n",
    "\n",
    "def integrate_data():\n",
    "    \"\"\"\n",
    "    Join and clean data from different sources\n",
    "    \"\"\"\n",
    "    # Your code here\n",
    "    pass\n"
   ]
  },
  {
   "cell_type": "code",
   "execution_count": null,
   "metadata": {},
   "outputs": [],
   "source": [
    "## Part 4: Analysis and Modeling\n",
    "# 1. Develop walkability and livability scores\n",
    "# 2. Cluster neighborhoods based on characteristics\n",
    "# 3. Build ML models to predict quality of life metrics\n",
    "# 4. Analyze spatial patterns and relationships\n",
    "# 5. Query and analyze data from SQLite database\n"
   ]
  }
 ],
 "metadata": {
  "language_info": {
   "name": "python"
  },
  "kernelspec": {
   "name": "python3",
   "language": "python",
   "display_name": "Python 3 (ipykernel)"
  }
 },
 "nbformat": 4,
 "nbformat_minor": 2
}
