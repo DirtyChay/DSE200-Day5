{
 "nbformat": 4,
 "nbformat_minor": 0,
 "metadata": {
  "colab": {
   "provenance": []
  },
  "kernelspec": {
   "name": "python3",
   "display_name": "Python 3 (ipykernel)",
   "language": "python"
  },
  "language_info": {
   "name": "python"
  }
 },
 "cells": [
  {
   "cell_type": "markdown",
   "source": [
    "<br>\n",
    "\n",
    "# Introduction to Databases\n",
    "## Overview\n",
    "\n",
    "Invented by E.F. Codd. (1970's) a **relational database** stores and manages data using the relational model (set theory).\n",
    "\n",
    "Data is organized into tables (relations) with **rows** and **columns**, and tables can be linked through **relationships**.\n",
    "\n",
    "The goals of a DB are:\n",
    "\n",
    "- Redundancy: Earlier systems often stored duplicate data in multiple places, making updates difficult and error-prone\n",
    "- Inconsistency: Without a structured way to maintain relationships, data could become inconsistent across different parts of the system\n",
    "- Independence: Users needed a way to work with data without worrying about how it was physically stored\n",
    "- Integrity: Businesses needed reliable ways to ensure data accuracy and maintain relationships between related data\n",
    "\n",
    "### DB's organize data into tables with known relationships, to:\n",
    "\n",
    "1. Efficiently query and update related data\n",
    "2. Enforce data integrity rules\n",
    "3. Reduce data redundancy\n",
    "4. Support concurrent users\n",
    "5. Provide transaction safety\n",
    "\n",
    "### A Relational Database Is...\n",
    "- Organized collection of tables\n",
    "- Collections of structured data\n",
    "- Custom Views and Custom logic (functions)\n",
    "- A large set of CLI tools\n",
    "\n",
    "<BR>\n",
    "\n",
    "### Why Relational Databases?\n",
    "- Very high performance and reliability\n",
    "- Data integrity\n",
    "- Complex queries\n",
    "- ACID compliance\n",
    "\n",
    "<BR>\n",
    "\n",
    "```\n",
    "Other types of Databases\n",
    "- Document (NoSQL)\n",
    "- Key-value Store\n",
    "- Graph\n",
    "```\n"
   ],
   "metadata": {
    "id": "2DYNbrc_9YY-"
   }
  },
  {
   "cell_type": "markdown",
   "source": [
    "# Data Integrity\n",
    "\n",
    "## ACID properties\n",
    "\n",
    "The set of guarantees DB's make about how they handle operations to ensure that system remains safe, accurate and reliable, even when things go wrong.\n",
    "\n",
    "### Atomicity\n",
    "\n",
    "Transaction is all or nothing\n",
    "No partial updates\n",
    "\n",
    "### Consistency\n",
    "\n",
    "Database moves from one valid state to another\n",
    "All rules/constraints satisfied\n",
    "\n",
    "### Isolation\n",
    "\n",
    "Transactions execute as if they were sequential\n",
    "Concurrent transactions don't interfere\n",
    "\n",
    "### Durability\n",
    "\n",
    "Committed changes are permanent\n",
    "Survive system crashes"
   ],
   "metadata": {
    "id": "Gxy2BKS-9fmJ"
   }
  },
  {
   "cell_type": "markdown",
   "source": [
    "<br>\n",
    "\n",
    "# Core Concepts\n",
    "## Schemas\n",
    "\n",
    "Schemas define a logical grouping of database objects:\n",
    "- Blueprint of database structure\n",
    "- Collection of tables, views, functions\n",
    "- Defines organization and relationships\n",
    "\n",
    "Generally speaking though it defines the structure of a table. You must define a schema and create the associated table before you may store or otherwise manipulate data.\n",
    "\n",
    "### Composition of a table schema\n",
    "\n",
    "Table schemas define all the properties (columns) that will be present in each row of our table.\n",
    "\n",
    "The properties include:\n",
    "- column name\n",
    "- type (see below)\n",
    "- size\n",
    "- nullable\n",
    "- default value\n",
    "- auto-incrementing\n",
    "- (and more)\n",
    "\n"
   ],
   "metadata": {
    "id": "H7RngiCfLgY-"
   }
  },
  {
   "cell_type": "markdown",
   "source": [
    "## Data Types\n",
    "\n",
    "Just like the type of a variable in Python, we must give each property in a schema a type.\n",
    "\n",
    "> WARNING: In SQL, unlike Python, column types are immutable (columns don't change types):\n",
    "- Text/String/Char\n",
    "- Integer/Float (numeric)\n",
    "- Dates\n",
    "- Boolean\n",
    "- Binary\n",
    "- Timestamps\n",
    "- And other specialized types\n",
    "<BR>"
   ],
   "metadata": {
    "id": "x6-0mvBFMSLZ"
   }
  },
  {
   "cell_type": "markdown",
   "source": [
    "\n",
    "## Tables\n",
    "\n",
    "Tables are a collection of related data in rows and columns (think spreadsheet). They are the most basic storage unit in a database.\n",
    "\n",
    "## Rows\n",
    "\n",
    "Within a **table**, each `row` represents the collection of properties defined in the schema associated with the table\n",
    "\n",
    "## Columns\n",
    "\n",
    "Within a **row**, each `column` represents one property defined in the schema associated with the table\n",
    "\n",
    "<BR>\n",
    "\n",
    "### Let's create our first schema for use later:"
   ],
   "metadata": {
    "id": "Or9_oJLc3ruN"
   }
  },
  {
   "cell_type": "code",
   "source": [
    "import sqlite3  # a popular in-memory DB\n",
    "\n",
    "# conn = sqlite3.connect(':memory:')  -- in MEMORY DB...\n",
    "conn = sqlite3.connect('DSE200.db')  # USUAL WAY\n",
    "cursor = conn.cursor()\n",
    "\n",
    "def hasTable(conn, tableName):\n",
    "  cursor = conn.cursor()\n",
    "  cursor.execute(\"SELECT name FROM sqlite_master WHERE type='table' AND name=?\", (tableName,))\n",
    "  return cursor.fetchone() is not None\n",
    "\n",
    "# conn = sqlite3.connect(':memory:')  -- in MEMORY DB...\n",
    "conn = sqlite3.connect('DSE200.db')  # USUAL WAY\n",
    "cursor = conn.cursor()\n",
    "\n",
    "# Check if the table exists\n",
    "if not hasTable(conn, 'Users'):\n",
    "  cursor.execute('CREATE TABLE IF NOT EXISTS Users (user_id INTEGER PRIMARY KEY AUTOINCREMENT, username VARCHAR(50) NOT NULL, email VARCHAR(100))')\n",
    "  print(\"Table 'Users' created successfully.\")\n",
    "else:\n",
    "  print(\"Table 'Users' already exists.\")\n",
    "\n",
    "conn.commit()\n",
    "conn.close()\n"
   ],
   "metadata": {
    "id": "YaGCYP3i6YWm",
    "colab": {
     "base_uri": "https://localhost:8080/"
    },
    "outputId": "f5c7d145-6413-4fcb-dd2c-018b7d302f71",
    "ExecuteTime": {
     "end_time": "2024-11-22T21:27:01.067473Z",
     "start_time": "2024-11-22T21:27:01.062971Z"
    }
   },
   "outputs": [
    {
     "name": "stdout",
     "output_type": "stream",
     "text": [
      "Table 'Usewtfrs' already exists.\n"
     ]
    }
   ],
   "execution_count": 1
  },
  {
   "cell_type": "markdown",
   "source": [
    "# Constraints\n",
    "\n",
    "Constraints are rules that enforce data integrity. The are conditions you specify about the data that the DB will enforce in order to catch potential problems and/or invalid relationships.\n",
    "<br>\n",
    "\n",
    "\n",
    "## **Primary Key** A unique ID that can't be NULL\n",
    "\n",
    "```\n",
    "CREATE TABLE Users (\n",
    "    user_id INT PRIMARY KEY,\n",
    "    username VARCHAR(50) NOT NULL,\n",
    "    email VARCHAR(100)\n",
    ");\n",
    "```\n",
    "\n",
    "## **Foreign Key** - Reference to other table that ensure referential integrity\n",
    "\n",
    "\n",
    "```\n",
    "CREATE TABLE Orders (\n",
    "    order_id INT PRIMARY KEY,\n",
    "    user_id INT,\n",
    "    amount DECIMAL(10,2),\n",
    "    FOREIGN KEY (user_id) REFERENCES Users(user_id)\n",
    ");\n",
    "```\n",
    "\n",
    "\n",
    "## **UNIQUE** -- ensures unique value per row\n",
    "\n",
    "```\n",
    "CREATE TABLE Users (\n",
    "    user_id INT PRIMARY KEY,\n",
    "    username VARCHAR(50) UNIQUE,\n",
    "    email VARCHAR(100) UNIQUE\n",
    ");\n",
    "```\n",
    "\n",
    "\n",
    "## **CHECK** - Logical validation rule\n",
    "\n",
    "```\n",
    "CREATE TABLE Employees (\n",
    "    id INT PRIMARY KEY,\n",
    "    name VARCHAR(100) NOT NULL,\n",
    "    age INT CHECK (age >= 18),\n",
    "    salary DECIMAL CHECK (salary > 0)\n",
    ");\n",
    "```\n",
    "\n",
    "## **NOT NULL** -- ensure non-empty value\n",
    "```\n",
    "CREATE TABLE Products (\n",
    "    product_id INT PRIMARY KEY,\n",
    "    name VARCHAR(100) NOT NULL,\n",
    "    price DECIMAL(10,2) NOT NULL,\n",
    "    description TEXT\n",
    ");\n",
    "```\n",
    "\n",
    "## **DEFAULT** - give fallback value if not otherwise provided\n",
    "```\n",
    "CREATE TABLE Posts (\n",
    "    post_id INT PRIMARY KEY,\n",
    "    title VARCHAR(200) NOT NULL,\n",
    "    created_at TIMESTAMP DEFAULT CURRENT_TIMESTAMP,\n",
    "    status VARCHAR(20) DEFAULT 'draft'\n",
    ");\n",
    "```"
   ],
   "metadata": {
    "id": "DfqW90Tczw0l"
   }
  },
  {
   "cell_type": "markdown",
   "source": [
    "## Relationships\n",
    "\n",
    "Another type of schema we can define in our database refers to the relationship between tables.\n",
    "\n",
    "One-to-one relationships are the simplest form. Consider how each cellphone has one phone number, and each phone number is associated with one phone.\n",
    "\n",
    "Another common type of relationship is one-to-many. Consider the messaging app on your phone. You have a list of contacts, and you may have conversations with any number of them. And in each conversation, there can be *many* messages. This is the nature of the relationships between tables.\n",
    "\n",
    "The third and final kind of relationship is the many-to-many relationship. For example, each student can take multiple classes, and each class has multiple students.  (Many-to-many relationships require an intermeditate \"pivot\" table to make things work.)\n",
    "\n",
    "<BR>"
   ],
   "metadata": {
    "id": "YmoIddssMMhQ"
   }
  },
  {
   "cell_type": "markdown",
   "source": [
    "## SQL Commands (CLI)\n",
    "\n",
    "Sending a command to a DB server is described as, \"making a query\". Examples include:\n",
    "\n",
    "- SELECT: read data\n",
    "- INSERT: add one or more rows\n",
    "- UPDATE: change data in one or more rows\n",
    "- DELETE: delete one or more rows\n",
    "\n"
   ],
   "metadata": {
    "id": "f_lvLsdeMZym"
   }
  },
  {
   "cell_type": "markdown",
   "source": [
    "## Sample Tables\n",
    "\n",
    "For our demonstration, we want to create some tables, and illustrated below:\n",
    "\n",
    "### `Customers`\n",
    "```\n",
    "ID  | Name   | City\n",
    "--------------------\n",
    "1   | Alice  | NYC\n",
    "2   | Bob    | LA\n",
    "3   | Carol  | Miami\n",
    "4   | Dan    | Boston\n",
    "```\n",
    "### `Orders`\n",
    "```\n",
    "OrderID | CustomerID | Product\n",
    "----------------------------\n",
    "101     | 1         | Book\n",
    "102     | 1         | Pen\n",
    "103     | 2         | Laptop\n",
    "104     | 5         | Phone\n",
    "\n",
    "```\n",
    "\n",
    "\n"
   ],
   "metadata": {
    "id": "HXXHAuumPeEn"
   }
  },
  {
   "cell_type": "code",
   "source": [
    "from tabulate import tabulate\n",
    "import sqlite3\n",
    "conn = sqlite3.connect('DSE200a.db')\n",
    "cursor = conn.cursor()\n",
    "\n",
    "cursor.execute('DROP TABLE IF EXISTS Customers')\n",
    "cursor.execute('DROP TABLE IF EXISTS Orders')\n",
    "\n",
    "conn.commit()\n",
    "\n",
    "# Cover method to display query results\n",
    "# --------------------------------------------\n",
    "def showRows(tableName, aCursor): # Added cursor argument\n",
    "  headers = [description[0] for description in cursor.description]  # Get column names\n",
    "  table_data = cursor.fetchall()\n",
    "  print(f\"{tableName} Data:\")\n",
    "  print(tabulate(table_data, headers=headers, tablefmt=\"grid\"))  # Print using tabulate\n",
    "\n",
    "# Cover method to show table structure\n",
    "# --------------------------------------------\n",
    "def describeTable(aCursor, tableName):\n",
    "  aCursor.execute(f\"PRAGMA table_info({tableName})\")\n",
    "  headers = [description[0] for description in aCursor.description]  # Get column names\n",
    "  table_data = aCursor.fetchall()\n",
    "  return tabulate(table_data, headers=headers, tablefmt=\"grid\")+\"\\n\"\n",
    "\n",
    "# Cover method to determine if table exists...\n",
    "# --------------------------------------------\n",
    "def hasTable(conn, tableName):\n",
    "    cursor = conn.cursor()\n",
    "    cursor.execute(f\"SELECT name FROM sqlite_master WHERE type='table' AND name='{tableName}'\")\n",
    "    return cursor.fetchone() is not None\n",
    "\n",
    "#-- Make the Customers table if it's not already made...\n",
    "\n",
    "if not hasTable(conn, 'Customers'):\n",
    "  cursor.execute('CREATE TABLE IF NOT EXISTS Customers (ID INTEGER PRIMARY KEY, Name TEXT, City TEXT)')\n",
    "  print(\"\\nTable 'Customers' created successfully.\")\n",
    "  print(describeTable(cursor, 'Customers'))\n",
    "else:\n",
    "  print(\"Table 'Customers' already exists.\")\n",
    "\n",
    "# Insert data into the Customers table\n",
    "cursor.execute(\"INSERT INTO Customers (ID, Name, City) VALUES (1, 'Alice', 'NYC')\")\n",
    "cursor.execute(\"INSERT INTO Customers (ID, Name, City) VALUES (2, 'Bob', 'LA')\")\n",
    "cursor.execute(\"INSERT INTO Customers (ID, Name, City) VALUES (3, 'Carol', 'Miami')\")\n",
    "cursor.execute(\"INSERT INTO Customers (ID, Name, City) VALUES (4, 'Dan', 'Boston')\")\n",
    "conn.commit()\n",
    "\n",
    "cursor.execute(f\"SELECT * FROM Customers;\") # Execute SELECT statement using the provided cursor\n",
    "showRows(\"Customers\", cursor)\n",
    "\n",
    "#-- now do orders table...\n",
    "\n",
    "if not hasTable(conn, 'Orders'):\n",
    "  cursor.execute('CREATE TABLE IF NOT EXISTS Orders (OrderID INTEGER PRIMARY KEY, CustomerID INTEGER, Product TEXT, FOREIGN KEY (CustomerID) REFERENCES Customers(ID))')\n",
    "  print(\"\\nTable 'Orders' created successfully.\")\n",
    "  print(describeTable(cursor, 'Orders'))\n",
    "else:\n",
    "  print(\"Table 'Orders' already exists.\")\n",
    "\n",
    "# Insert data into the Orders table\n",
    "cursor.execute(\"INSERT INTO Orders (OrderID, CustomerID, Product) VALUES (101, 1, 'Book')\")\n",
    "cursor.execute(\"INSERT INTO Orders (OrderID, CustomerID, Product) VALUES (102, 1, 'Pen')\")\n",
    "cursor.execute(\"INSERT INTO Orders (OrderID, CustomerID, Product) VALUES (103, 2, 'Laptop')\")\n",
    "cursor.execute(\"INSERT INTO Orders (OrderID, CustomerID, Product) VALUES (104, 5, 'Phone')\")\n",
    "conn.commit()\n",
    "\n",
    "cursor.execute(f\"SELECT * FROM Orders;\") # Execute SELECT statement using the provided cursor\n",
    "showRows(\"Orders\", cursor)\n",
    "\n",
    "# Close the cursor and connection\n",
    "cursor.close()\n",
    "conn.close();\n"
   ],
   "metadata": {
    "id": "Jx6wg80mSyEc",
    "colab": {
     "base_uri": "https://localhost:8080/"
    },
    "outputId": "14ff7e35-a294-48a1-baf8-a249835d5f37",
    "ExecuteTime": {
     "end_time": "2024-11-22T21:27:01.110116Z",
     "start_time": "2024-11-22T21:27:01.102269Z"
    }
   },
   "outputs": [
    {
     "name": "stdout",
     "output_type": "stream",
     "text": [
      "\n",
      "Table 'Customers' created successfully.\n",
      "+-------+--------+---------+-----------+--------------+------+\n",
      "|   cid | name   | type    |   notnull | dflt_value   |   pk |\n",
      "+=======+========+=========+===========+==============+======+\n",
      "|     0 | ID     | INTEGER |         0 |              |    1 |\n",
      "+-------+--------+---------+-----------+--------------+------+\n",
      "|     1 | Name   | TEXT    |         0 |              |    0 |\n",
      "+-------+--------+---------+-----------+--------------+------+\n",
      "|     2 | City   | TEXT    |         0 |              |    0 |\n",
      "+-------+--------+---------+-----------+--------------+------+\n",
      "\n",
      "Customers Data:\n",
      "+------+--------+--------+\n",
      "|   ID | Name   | City   |\n",
      "+======+========+========+\n",
      "|    1 | Alice  | NYC    |\n",
      "+------+--------+--------+\n",
      "|    2 | Bob    | LA     |\n",
      "+------+--------+--------+\n",
      "|    3 | Carol  | Miami  |\n",
      "+------+--------+--------+\n",
      "|    4 | Dan    | Boston |\n",
      "+------+--------+--------+\n",
      "\n",
      "Table 'Orders' created successfully.\n",
      "+-------+------------+---------+-----------+--------------+------+\n",
      "|   cid | name       | type    |   notnull | dflt_value   |   pk |\n",
      "+=======+============+=========+===========+==============+======+\n",
      "|     0 | OrderID    | INTEGER |         0 |              |    1 |\n",
      "+-------+------------+---------+-----------+--------------+------+\n",
      "|     1 | CustomerID | INTEGER |         0 |              |    0 |\n",
      "+-------+------------+---------+-----------+--------------+------+\n",
      "|     2 | Product    | TEXT    |         0 |              |    0 |\n",
      "+-------+------------+---------+-----------+--------------+------+\n",
      "\n",
      "Orders Data:\n",
      "+-----------+--------------+-----------+\n",
      "|   OrderID |   CustomerID | Product   |\n",
      "+===========+==============+===========+\n",
      "|       101 |            1 | Book      |\n",
      "+-----------+--------------+-----------+\n",
      "|       102 |            1 | Pen       |\n",
      "+-----------+--------------+-----------+\n",
      "|       103 |            2 | Laptop    |\n",
      "+-----------+--------------+-----------+\n",
      "|       104 |            5 | Phone     |\n",
      "+-----------+--------------+-----------+\n"
     ]
    }
   ],
   "execution_count": 2
  },
  {
   "cell_type": "markdown",
   "source": [
    "## Kinds of JOINS\n",
    "\n",
    "INNER JOIN\n",
    "🔵 ⚪ = ⚫\n",
    "A ∩ B\n",
    "\n",
    "LEFT JOIN\n",
    "🔵 ⚪ = 🔵\n",
    "A + (A ∩ B)\n",
    "\n",
    "RIGHT JOIN\n",
    "🔵 ⚪ = ⚪\n",
    "B + (A ∩ B)\n",
    "\n",
    "FULL JOIN\n",
    "🔵 ⚪ = 🔵 ⚪\n",
    "A + B\n",
    "\n",
    "## Inner Join\n",
    "An INNER JOIN combines rows from two tables when there's a matching value in both tables.\n"
   ],
   "metadata": {
    "id": "w79yGoKENEr3"
   }
  },
  {
   "cell_type": "code",
   "source": [],
   "metadata": {
    "id": "pwtR_afINpiZ",
    "ExecuteTime": {
     "end_time": "2024-11-22T21:27:01.117489Z",
     "start_time": "2024-11-22T21:27:01.116279Z"
    }
   },
   "outputs": [],
   "execution_count": null
  },
  {
   "cell_type": "code",
   "source": [
    "# Execute the INNER JOIN\n",
    "\n",
    "conn = sqlite3.connect('DSE200a.db')\n",
    "cursor = conn.cursor()\n",
    "\n",
    "# Execute the INNER JOIN query using cursor.execute()\n",
    "cursor.execute(\"\"\"\n",
    "SELECT Customers.Name, Orders.Product\n",
    "FROM Customers\n",
    "INNER JOIN Orders ON Customers.ID = Orders.CustomerID\n",
    "\"\"\")\n",
    "\n",
    "# Now, instead of printing the results directly, use your 'showRows' function\n",
    "showRows(\"Customers/Orders Inner Join\", cursor)\n",
    "\n",
    "# Close the cursor and connection\n",
    "cursor.close()\n",
    "conn.close();\n"
   ],
   "metadata": {
    "id": "Fet8Z2JYN_NR",
    "colab": {
     "base_uri": "https://localhost:8080/"
    },
    "outputId": "ed073637-8822-4340-9e73-c4f0220c3b28",
    "ExecuteTime": {
     "end_time": "2024-11-22T21:27:01.123711Z",
     "start_time": "2024-11-22T21:27:01.121277Z"
    }
   },
   "outputs": [
    {
     "name": "stdout",
     "output_type": "stream",
     "text": [
      "Customers/Orders Inner Join Data:\n",
      "+--------+-----------+\n",
      "| Name   | Product   |\n",
      "+========+===========+\n",
      "| Alice  | Book      |\n",
      "+--------+-----------+\n",
      "| Alice  | Pen       |\n",
      "+--------+-----------+\n",
      "| Bob    | Laptop    |\n",
      "+--------+-----------+\n"
     ]
    }
   ],
   "execution_count": 3
  },
  {
   "cell_type": "markdown",
   "source": [
    "#### NOTE:\n",
    "- Only matches shown\n",
    "- Carol, Dan (no orders) excluded\n",
    "- CustomerID 5 (no customer) excluded\n",
    "\n",
    "<BR>\n",
    "\n",
    "## LEFT JOIN\n",
    "\n",
    ">  🔵 ⚪ = 🔵 &nbsp; &nbsp; &nbsp; A + (A ∩ B)\n",
    "\n",
    "A LEFT JOIN keeps ALL records from the left (first) table and matches records from the right table where possible. If there's no match, it fills in NULL values.\n"
   ],
   "metadata": {
    "id": "iBfM1JoINx7s"
   }
  },
  {
   "cell_type": "code",
   "source": [
    "# Execute the LEFT JOIN\n",
    "\n",
    "conn = sqlite3.connect('DSE200a.db')\n",
    "cursor = conn.cursor()\n",
    "\n",
    "# Execute the INNER JOIN query using cursor.execute()\n",
    "cursor.execute(\"\"\"\n",
    "SELECT Customers.Name, Orders.Product\n",
    "FROM Customers\n",
    "LEFT JOIN Orders ON Customers.ID = Orders.CustomerID\n",
    "\"\"\")\n",
    "\n",
    "# Now, instead of printing the results directly, use your 'showRows' function\n",
    "showRows(\"Customers/Orders Inner Join\", cursor)\n",
    "\n",
    "# Close the cursor and connection\n",
    "cursor.close()\n",
    "conn.close();"
   ],
   "metadata": {
    "colab": {
     "base_uri": "https://localhost:8080/"
    },
    "id": "V2X6V_bmq5bD",
    "outputId": "66b296de-199a-41a8-f21a-8cb65a60bb0b",
    "ExecuteTime": {
     "end_time": "2024-11-22T21:27:01.137794Z",
     "start_time": "2024-11-22T21:27:01.135127Z"
    }
   },
   "outputs": [
    {
     "name": "stdout",
     "output_type": "stream",
     "text": [
      "Customers/Orders Inner Join Data:\n",
      "+--------+-----------+\n",
      "| Name   | Product   |\n",
      "+========+===========+\n",
      "| Alice  | Book      |\n",
      "+--------+-----------+\n",
      "| Alice  | Pen       |\n",
      "+--------+-----------+\n",
      "| Bob    | Laptop    |\n",
      "+--------+-----------+\n",
      "| Carol  |           |\n",
      "+--------+-----------+\n",
      "| Dan    |           |\n",
      "+--------+-----------+\n"
     ]
    }
   ],
   "execution_count": 4
  },
  {
   "cell_type": "markdown",
   "source": [
    "## RIGHT JOIN\n",
    "\n",
    "> 🔵 ⚪ = ⚪ &nbsp; &nbsp; &nbsp; B + (A ∩ B)\n",
    "\n",
    "A RIGHT JOIN is like a LEFT JOIN but reversed - it keeps ALL records from the right (second) table and matches from the left where possible. If there's no match, it fills in NULL values.\n",
    "\n",
    "Note: SQLite doesn't support RIGHT JOIN, but here's an example to understand it:\n",
    "\n",
    "```\n",
    "SELECT Customers.Name, Orders.Product FROM Customers RIGHT JOIN Orders ON Customers.ID = Orders.CustomerID\n",
    "\n",
    "+--------+-----------+-----------+\n",
    "| ID     | Name      | City      |\n",
    "+========+===========+===========+\n",
    "| 1      | John      | NYC       |\n",
    "+--------+-----------+-----------+\n",
    "| 2      | Jane      | LA        |\n",
    "+--------+-----------+-----------+\n",
    "| 3      | Bob       | Chicago   |\n",
    "+--------+-----------+-----------+\n",
    "```\n"
   ],
   "metadata": {
    "id": "0ghtKmadN_fi"
   }
  },
  {
   "cell_type": "markdown",
   "source": [
    "## FULL JOIN\n",
    "\n",
    "> 🔵 ⚪ = 🔵 ⚪ &nbsp; &nbsp; &nbsp; A + B\n",
    "\n",
    "A FULL JOIN combines a LEFT and RIGHT JOIN - it keeps ALL records from BOTH tables, even if they don't have matches. If there's no match on either side, it fills in NULL values. All records from both table appear.\n",
    "\n",
    "Note: SQLite doesn't support FULL JOIN directly, but here's an example to understand it:\n",
    "\n",
    "```\n",
    "SELECT Customers.Name, Orders.Product\n",
    "FROM Customers\n",
    "FULL JOIN Orders ON Customers.ID = Orders.CustomerID\n",
    "```\n",
    "\n",
    "```\n",
    "+-----------+-----------+\n",
    "| Name      | Orders    |\n",
    "+===========+===========+\n",
    "| John      | Laptop    |\n",
    "+-----------+-----------+\n",
    "| John      | Phone     |\n",
    "+-----------+-----------+\n",
    "| Jane      | Tablet    |\n",
    "+-----------+-----------+\n",
    "| Bob       | NULL      |\n",
    "+-----------+-----------+\n",
    "| NULL      | Monitor   |\n",
    "+-----------+-----------+\n",
    "```\n"
   ],
   "metadata": {
    "id": "5cORtULDOJkJ"
   }
  },
  {
   "cell_type": "code",
   "source": [],
   "metadata": {
    "id": "-YT-IcjfOR40",
    "ExecuteTime": {
     "end_time": "2024-11-22T21:27:01.146136Z",
     "start_time": "2024-11-22T21:27:01.145016Z"
    }
   },
   "outputs": [],
   "execution_count": null
  },
  {
   "cell_type": "markdown",
   "source": [
    "\n",
    "\n",
    "## Common JOIN problems\n",
    "- Missing matches\n",
    "- Multiple matches\n",
    "- Performance issues\n",
    "- Wrong JOIN type\n"
   ],
   "metadata": {
    "id": "Q5_4aj4-OU57"
   }
  },
  {
   "cell_type": "markdown",
   "source": [
    "## Indexes\n",
    "\n",
    "To greatly improve performance, you can create any number \"index\" tables -- that automatically map specified keys with associated rows.\n",
    "- Indexes take up extra space; don't overuse.  \n",
    "- They update automatically\n",
    "\n",
    "```\n",
    "cursor.execute('CREATE INDEX idx_city ON Customers(City)')\n",
    "```\n",
    "\n",
    "<BR>"
   ],
   "metadata": {
    "id": "dng5kmc-NBBA"
   }
  },
  {
   "cell_type": "markdown",
   "source": [
    "\n",
    "\n",
    "## Transactions\n",
    "\n",
    "Transactions are groups of operations that are treated as a single unit of work. They follow the ACID properties:\n",
    "\n",
    "- **Atomicity**: All operations in the transaction either complete successfully together, or none of them do\n",
    "\n",
    "- **Consistency**: The database remains in a valid state before and after the transaction\n",
    "\n",
    "- **Isolation**: Transactions don't interfere with each other when running concurrently\n",
    "\n",
    "- **Durability**: Once a transaction is committed, the changes are permanent\n",
    "\n",
    "### Simple Example\n",
    "Transferring $100 from Account A to Account B requires two operations:\n",
    "\n",
    "1. Deduct $100 from A\n",
    "2. Add $100 to B\n",
    "\n",
    "Without transactions, if the system crashes after step 1 but before step 2, money would simply disappear. With transactions, either both steps complete successfully, or neither does - maintaining data integrity.\n",
    "\n",
    "<BR>\n"
   ],
   "metadata": {
    "id": "wBsA3oUuNDBf"
   }
  }
 ]
}
